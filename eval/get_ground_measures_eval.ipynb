{
  "nbformat": 4,
  "nbformat_minor": 0,
  "metadata": {
    "colab": {
      "name": "get_ground_measures_eval.ipynb",
      "provenance": [],
      "machine_shape": "hm",
      "background_execution": "on",
      "collapsed_sections": []
    },
    "kernelspec": {
      "name": "python3",
      "display_name": "Python 3"
    },
    "language_info": {
      "name": "python"
    }
  },
  "cells": [
    {
      "cell_type": "code",
      "source": [
        "!pip install boto3"
      ],
      "metadata": {
        "id": "WCfpyIKG_Ntc"
      },
      "execution_count": null,
      "outputs": []
    },
    {
      "cell_type": "code",
      "source": [
        "from google.colab import drive\n",
        "drive.mount('/content/drive')"
      ],
      "metadata": {
        "id": "nqOkTpVfCvi7"
      },
      "execution_count": null,
      "outputs": []
    },
    {
      "cell_type": "code",
      "execution_count": null,
      "metadata": {
        "id": "muqUwpX4_9o7"
      },
      "outputs": [],
      "source": [
        "import json\n",
        "import boto3\n",
        "import pandas as pd\n",
        "import numpy as np\n",
        "from collections import defaultdict"
      ]
    },
    {
      "cell_type": "code",
      "source": [
        "BUCKET_NAME = 'drivendata-public-assets'\n",
        "\n",
        "# enter authentication credentials\n",
        "s3 = boto3.resource('s3', aws_access_key_id = 'aws_access_key_id', \n",
        "                          aws_secret_access_key = 'aws_secret_access_key')"
      ],
      "metadata": {
        "id": "uC-cnuT5_c07"
      },
      "execution_count": null,
      "outputs": []
    },
    {
      "cell_type": "code",
      "source": [
        "KEY = 'ground_measures_features.csv'\n",
        "\n",
        "try:\n",
        "  s3.Bucket(BUCKET_NAME).download_file(KEY, 'ground_measures_features.csv')\n",
        "  \n",
        "except botocore.exceptions.ClientError as e:\n",
        "  if e.response['Error']['Code'] == \"404\":\n",
        "    print(\"The object does not exist.\")\n",
        "  else:\n",
        "    raise"
      ],
      "metadata": {
        "id": "6P6fzkzF_cwW"
      },
      "execution_count": null,
      "outputs": []
    },
    {
      "cell_type": "code",
      "source": [
        "!cp /content/ground_measures_features.csv /content/drive/MyDrive/snocast/eval/data/ground_measures/ground_measures_features.csv"
      ],
      "metadata": {
        "id": "VNZnXeCoIhqs"
      },
      "execution_count": null,
      "outputs": []
    },
    {
      "cell_type": "code",
      "source": [
        "gm = pd.read_csv('/content/drive/MyDrive/snocast/eval/data/ground_measures/ground_measures_features.csv')"
      ],
      "metadata": {
        "id": "CY-PYlUsa2xY"
      },
      "execution_count": null,
      "outputs": []
    },
    {
      "cell_type": "code",
      "source": [
        "gm.sample(5)"
      ],
      "metadata": {
        "id": "YMu1ZRsf1zDC"
      },
      "execution_count": null,
      "outputs": []
    },
    {
      "cell_type": "code",
      "source": [
        ""
      ],
      "metadata": {
        "id": "W73kBYql1z6p"
      },
      "execution_count": null,
      "outputs": []
    }
  ]
}