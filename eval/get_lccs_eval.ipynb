{
  "nbformat": 4,
  "nbformat_minor": 0,
  "metadata": {
    "colab": {
      "name": "get_lccs_eval.ipynb",
      "provenance": [],
      "machine_shape": "hm",
      "background_execution": "on",
      "collapsed_sections": []
    },
    "kernelspec": {
      "name": "python3",
      "display_name": "Python 3"
    },
    "language_info": {
      "name": "python"
    }
  },
  "cells": [
    {
      "cell_type": "code",
      "source": [
        "!pip install boto3"
      ],
      "metadata": {
        "id": "WCfpyIKG_Ntc"
      },
      "execution_count": null,
      "outputs": []
    },
    {
      "cell_type": "code",
      "source": [
        "from google.colab import drive\n",
        "drive.mount('/content/drive')"
      ],
      "metadata": {
        "id": "nqOkTpVfCvi7"
      },
      "execution_count": null,
      "outputs": []
    },
    {
      "cell_type": "code",
      "execution_count": null,
      "metadata": {
        "id": "muqUwpX4_9o7"
      },
      "outputs": [],
      "source": [
        "import boto3\n",
        "import json\n",
        "import pandas as pd\n",
        "import numpy as np\n",
        "from collections import defaultdict\n",
        "from matplotlib import pyplot as plt\n",
        "import pandas as pd\n",
        "import netCDF4"
      ]
    },
    {
      "cell_type": "code",
      "source": [
        "BUCKET_NAME = 'drivendata-public-assets'\n",
        "\n",
        "# enter authentication credentials\n",
        "s3 = boto3.resource('s3', aws_access_key_id = 'aws_access_key_id', \n",
        "                          aws_secret_access_key = 'aws_secret_access_key')"
      ],
      "metadata": {
        "id": "uC-cnuT5_c07"
      },
      "execution_count": null,
      "outputs": []
    },
    {
      "cell_type": "code",
      "source": [
        "KEY = 'land_cover_map.tar.gz'\n",
        "\n",
        "try:\n",
        "  s3.Bucket(BUCKET_NAME).download_file(KEY, 'land_cover_map.tar.gz')\n",
        "  \n",
        "except botocore.exceptions.ClientError as e:\n",
        "  if e.response['Error']['Code'] == \"404\":\n",
        "    print(\"The object does not exist.\")\n",
        "  else:\n",
        "    raise"
      ],
      "metadata": {
        "id": "6P6fzkzF_cwW"
      },
      "execution_count": null,
      "outputs": []
    },
    {
      "cell_type": "code",
      "source": [
        "!tar -xf /content/land_cover_map.tar.gz"
      ],
      "metadata": {
        "id": "UviWh1g2_ctX"
      },
      "execution_count": null,
      "outputs": []
    },
    {
      "cell_type": "code",
      "source": [
        "!cp /content/C3S-LC-L4-LCCS-Map-300m-P1Y-2020-v2.1.1.nc /content/drive/MyDrive/snocast/eval/data/static/C3S-LC-L4-LCCS-Map-300m-P1Y-2020-v2.1.1.nc"
      ],
      "metadata": {
        "id": "Z_Ky6z0TjC4n"
      },
      "execution_count": null,
      "outputs": []
    },
    {
      "cell_type": "code",
      "source": [
        "fp='/content/drive/MyDrive/snocast/eval/data/static/C3S-LC-L4-LCCS-Map-300m-P1Y-2020-v2.1.1.nc' # your file name with the eventual path\n",
        "nc = netCDF4.Dataset(fp) # reading the nc file and creating Dataset"
      ],
      "metadata": {
        "id": "99XBnoFlFMBQ"
      },
      "execution_count": null,
      "outputs": []
    },
    {
      "cell_type": "code",
      "source": [
        "# http://maps.elie.ucl.ac.be/CCI/viewer/download/ESACCI-LC-QuickUserGuide-LC-Maps_v2-0-7.pdf\n",
        "lccs_class = nc.variables['lccs_class']\n",
        "lccs_lat = np.array(nc.variables['lat'])\n",
        "lccs_lon = np.array(nc.variables['lon'])"
      ],
      "metadata": {
        "id": "Of9VYyarFRlQ"
      },
      "execution_count": null,
      "outputs": []
    },
    {
      "cell_type": "markdown",
      "source": [
        "### Import Base Data Files"
      ],
      "metadata": {
        "id": "bUIQBQ-UI_Z0"
      }
    },
    {
      "cell_type": "code",
      "source": [
        "ground_measures_metadata = pd.read_csv('/content/drive/MyDrive/snocast/eval/data/ground_measures_metadata.csv')\n",
        "submission_format = pd.read_csv('/content/drive/MyDrive/snocast/eval/data/submission_format.csv')"
      ],
      "metadata": {
        "id": "mshiRZnECY4C"
      },
      "execution_count": null,
      "outputs": []
    },
    {
      "cell_type": "code",
      "source": [
        "# get latitude longitude for grids\n",
        "f = open('/content/drive/MyDrive/snocast/eval/data/grid_cells.geojson')\n",
        "grid_cells = json.load(f)\n",
        "print('length grid_cells features: ', len(grid_cells['features']))"
      ],
      "metadata": {
        "id": "XTsNZvsjy5Fk"
      },
      "execution_count": null,
      "outputs": []
    },
    {
      "cell_type": "code",
      "source": [
        "ids = []\n",
        "lats = []\n",
        "lons = []\n",
        "bboxes = []\n",
        "\n",
        "for grid_cell in grid_cells['features']:\n",
        "    cell_id = grid_cell['properties']['cell_id']\n",
        "    coordinates = grid_cell['geometry']['coordinates'][0]\n",
        "    lon, lat = np.mean(coordinates, axis=0)\n",
        "    northeast_corner = np.max(coordinates, axis=0)\n",
        "    southwest_corner = np.min(coordinates, axis=0)\n",
        "    # bbox = [min_lon, min_lat, max_lon, max_lat]\n",
        "    bbox = np.concatenate([southwest_corner,northeast_corner])\n",
        "    ids.append(cell_id)\n",
        "    lats.append(lat)\n",
        "    lons.append(lon)\n",
        "    bboxes.append(bbox)\n",
        "\n",
        "grid_cells_pd = pd.DataFrame({'location_id': ids, \n",
        "                             'latitude': lats, \n",
        "                             'longitude': lons, \n",
        "                             'bbox': bboxes})"
      ],
      "metadata": {
        "id": "lBpi19GiERNQ"
      },
      "execution_count": null,
      "outputs": []
    },
    {
      "cell_type": "code",
      "source": [
        "all_max_lat = grid_cells_pd.latitude.max()\n",
        "all_min_lat = grid_cells_pd.latitude.min()\n",
        "all_max_lon = grid_cells_pd.longitude.max()\n",
        "all_min_lon = grid_cells_pd.longitude.min()\n",
        "print(all_min_lon, all_min_lat, all_max_lon, all_max_lat)"
      ],
      "metadata": {
        "id": "gSCG8E0RUJHs"
      },
      "execution_count": null,
      "outputs": []
    },
    {
      "cell_type": "code",
      "source": [
        "# Figure out how to trim to only relevant lat lon\n",
        "lccs_lat_values = (lccs_lat < all_max_lat) & (lccs_lat > all_min_lat)\n",
        "lccs_lon_values = (lccs_lon < all_max_lon) & (lccs_lon > all_min_lon)\n",
        "\n",
        "reduced_lccs = np.squeeze(lccs_class[:, lccs_lat_values, lccs_lon_values])\n",
        "reduced_lat = lccs_lat[lccs_lat_values]\n",
        "reduced_lon = lccs_lon[lccs_lon_values]"
      ],
      "metadata": {
        "id": "Fhyq74qBOpRH"
      },
      "execution_count": null,
      "outputs": []
    },
    {
      "cell_type": "code",
      "source": [
        "lccs_arr = []\n",
        "\n",
        "for idx, row in grid_cells_pd.iterrows():\n",
        "  if idx % 100 == 0:\n",
        "    print(idx)\n",
        "  min_lon, min_lat, max_lon, max_lat = row['bbox']\n",
        "\n",
        "  lat_values = (reduced_lat < max_lat) & (reduced_lat > min_lat)\n",
        "  lon_values = (reduced_lon < max_lon) & (reduced_lon > min_lon)\n",
        "  mask = lon_values[np.newaxis, :] & lat_values[:, np.newaxis]\n",
        "\n",
        "  arr = reduced_lccs[mask]\n",
        "  lccs_cat, lccs_count = np.unique(arr, return_counts=True)\n",
        "  lccs_len = len(arr)\n",
        "\n",
        "  land_cover = {}\n",
        "  land_cover['location_id'] = row['location_id']\n",
        "  lccs_order = np.flip(np.argsort(lccs_count))\n",
        "  for i in range(3):\n",
        "    if i+1 <= len(lccs_order):\n",
        "      land_cover[f'lccs_{i}'] = lccs_cat[lccs_order[i]]\n",
        "      land_cover[f'lccs_pct_{i}'] = lccs_count[lccs_order[i]]/lccs_len\n",
        "    else:\n",
        "      land_cover[f'lccs_{i}'] = 0\n",
        "      land_cover[f'lccs_pct_{i}'] = np.nan\n",
        "  \n",
        "  lccs_arr.append(land_cover)\n"
      ],
      "metadata": {
        "id": "-2S0m1da1WXl"
      },
      "execution_count": null,
      "outputs": []
    },
    {
      "cell_type": "code",
      "source": [
        "print(idx)\n",
        "print(len(lccs_arr))"
      ],
      "metadata": {
        "id": "sTr6K_Nx4NWs"
      },
      "execution_count": null,
      "outputs": []
    },
    {
      "cell_type": "code",
      "source": [
        "lccs_df = pd.DataFrame(lccs_arr)"
      ],
      "metadata": {
        "id": "2jtln4oJFm_Q"
      },
      "execution_count": null,
      "outputs": []
    },
    {
      "cell_type": "code",
      "source": [
        "lccs_df.head()"
      ],
      "metadata": {
        "id": "WKQ1GRT8I7Pp"
      },
      "execution_count": null,
      "outputs": []
    },
    {
      "cell_type": "code",
      "source": [
        "lccs_df.to_parquet('/content/drive/MyDrive/snocast/eval/data/static/grid_lccs.parquet')"
      ],
      "metadata": {
        "id": "4GdT3xQ-4qDG"
      },
      "execution_count": null,
      "outputs": []
    },
    {
      "cell_type": "code",
      "source": [
        ""
      ],
      "metadata": {
        "id": "TDvOkgThvq7t"
      },
      "execution_count": null,
      "outputs": []
    }
  ]
}