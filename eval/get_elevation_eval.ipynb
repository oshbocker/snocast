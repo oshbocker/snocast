{
  "nbformat": 4,
  "nbformat_minor": 0,
  "metadata": {
    "colab": {
      "name": "get_elevation_eval.ipynb",
      "provenance": [],
      "machine_shape": "hm",
      "background_execution": "on",
      "collapsed_sections": []
    },
    "kernelspec": {
      "name": "python3",
      "display_name": "Python 3"
    },
    "language_info": {
      "name": "python"
    }
  },
  "cells": [
    {
      "cell_type": "code",
      "source": [
        "!pip install pystac_client\n",
        "!pip install planetary_computer\n",
        "!pip install rasterio\n",
        "!pip install xarray-spatial"
      ],
      "metadata": {
        "id": "vm_jdNEf-HAy"
      },
      "execution_count": null,
      "outputs": []
    },
    {
      "cell_type": "code",
      "source": [
        "from google.colab import drive\n",
        "drive.mount('/content/drive')"
      ],
      "metadata": {
        "id": "nqOkTpVfCvi7"
      },
      "execution_count": null,
      "outputs": []
    },
    {
      "cell_type": "code",
      "execution_count": null,
      "metadata": {
        "id": "muqUwpX4_9o7"
      },
      "outputs": [],
      "source": [
        "import json\n",
        "import pandas as pd\n",
        "import numpy as np\n",
        "from collections import defaultdict\n",
        "from pystac_client import Client\n",
        "import planetary_computer\n",
        "import xarray\n",
        "import time"
      ]
    },
    {
      "cell_type": "markdown",
      "source": [
        "### Import Base Data Files"
      ],
      "metadata": {
        "id": "bUIQBQ-UI_Z0"
      }
    },
    {
      "cell_type": "code",
      "source": [
        "ground_measures_metadata = pd.read_csv('/content/drive/MyDrive/snocast/eval/ground_measures_metadata.csv')\n",
        "submission_format = pd.read_csv('/content/drive/MyDrive/snocast/eval/submission_format.csv')"
      ],
      "metadata": {
        "id": "mshiRZnECY4C"
      },
      "execution_count": null,
      "outputs": []
    },
    {
      "cell_type": "code",
      "source": [
        "# get latitude longitude for train and test grids\n",
        "f = open('/content/drive/MyDrive/snocast/eval/grid_cells.geojson')\n",
        "grid_cells = json.load(f)\n",
        "print('length grid_cells features: ', len(grid_cells['features']))"
      ],
      "metadata": {
        "id": "lBpi19GiERNQ"
      },
      "execution_count": null,
      "outputs": []
    },
    {
      "cell_type": "code",
      "source": [
        "ids = []\n",
        "lats = []\n",
        "lons = []\n",
        "regions = []\n",
        "bboxes = []\n",
        "\n",
        "for grid_cell in grid_cells['features']:\n",
        "    cell_id = grid_cell['properties']['cell_id']\n",
        "    region = grid_cell['properties']['region']\n",
        "    coordinates = grid_cell['geometry']['coordinates'][0]\n",
        "    lon, lat = np.mean(coordinates, axis=0)\n",
        "    northeast_corner = np.max(coordinates, axis=0)\n",
        "    southwest_corner = np.min(coordinates, axis=0)\n",
        "    # bbox = [min_lon, min_lat, max_lon, max_lat]\n",
        "    bbox = np.concatenate([southwest_corner,northeast_corner])\n",
        "    ids.append(cell_id)\n",
        "    lats.append(lat)\n",
        "    lons.append(lon)\n",
        "    regions.append(region)\n",
        "    bboxes.append(bbox)\n",
        "\n",
        "grid_cells_pd = pd.DataFrame({'cell_id': ids, \n",
        "                             'latitude': lats, \n",
        "                             'longitude': lons,\n",
        "                             'region': regions, \n",
        "                             'bbox': bboxes})"
      ],
      "metadata": {
        "id": "FZlcSfg8O7O1"
      },
      "execution_count": null,
      "outputs": []
    },
    {
      "cell_type": "markdown",
      "source": [
        "## Get Data for Copernicus Digital Elevation Model (DEM)"
      ],
      "metadata": {
        "id": "8cI2IEu497Ya"
      }
    },
    {
      "cell_type": "code",
      "source": [
        "client = Client.open(\n",
        "    \"https://planetarycomputer.microsoft.com/api/stac/v1\",\n",
        "    ignore_conformance=True,\n",
        ")"
      ],
      "metadata": {
        "id": "GEpn6lCK97FB"
      },
      "execution_count": null,
      "outputs": []
    },
    {
      "cell_type": "code",
      "source": [
        "all_max_lat = grid_cells_pd.latitude.max()\n",
        "all_min_lat = grid_cells_pd.latitude.min()\n",
        "all_max_lon = grid_cells_pd.longitude.max()\n",
        "all_min_lon = grid_cells_pd.longitude.min()\n",
        "all_bbox = [all_min_lon, all_min_lat, all_max_lon, all_max_lat]\n",
        "print(all_min_lon, all_min_lat, all_max_lon, all_max_lat)"
      ],
      "metadata": {
        "id": "aqVEWsqFb1OV"
      },
      "execution_count": null,
      "outputs": []
    },
    {
      "cell_type": "code",
      "source": [
        "search = client.search(\n",
        "      collections=[\"cop-dem-glo-30\"],\n",
        "      bbox=all_bbox,\n",
        "  )\n",
        "\n",
        "items = list(search.get_items())\n",
        "if len(items) > 1:\n",
        "  print(f\"Returned {len(items)} items\")"
      ],
      "metadata": {
        "id": "fZJitrDvcZhh"
      },
      "execution_count": null,
      "outputs": []
    },
    {
      "cell_type": "code",
      "source": [
        "# Ran in 30 min. for 295 items\n",
        "processed_items = []\n",
        "for i in range(len(items)):\n",
        "  signed_asset = planetary_computer.sign(items[i].assets[\"data\"])\n",
        "  data = (\n",
        "      xarray.open_rasterio(signed_asset.href)\n",
        "      .squeeze()\n",
        "      .drop(\"band\")\n",
        "      .coarsen({\"y\": 5, \"x\": 5})\n",
        "      .mean()\n",
        "  )\n",
        "  processed_items.append(data)"
      ],
      "metadata": {
        "id": "AWPHm6eKcaiQ"
      },
      "execution_count": null,
      "outputs": []
    },
    {
      "cell_type": "code",
      "source": [
        "mean_elevations = []\n",
        "var_elevations = []\n",
        "\n",
        "for idx, row in grid_cells_pd.iterrows():\n",
        "  # if idx < 2263:\n",
        "  #   continue\n",
        "  if idx % 100 == 0:\n",
        "    print(idx)\n",
        "  min_lon, min_lat, max_lon, max_lat = row['bbox']\n",
        "\n",
        "  sample_elevations = np.array([])\n",
        "  for data in processed_items:\n",
        "    lat_values = (data.y.values < max_lat) & (data.y.values > min_lat)\n",
        "    lon_values = (data.x.values < max_lon) & (data.x.values > min_lon)\n",
        "    mask = lon_values[np.newaxis, :] & lat_values[:, np.newaxis]\n",
        "    sample_elevations = np.concatenate([sample_elevations, data.values[mask]])\n",
        "  mean_elevation_m = sample_elevations.mean()\n",
        "  var_elevation_m = sample_elevations.var()\n",
        "  mean_elevations.append(mean_elevation_m)\n",
        "  var_elevations.append(var_elevation_m)"
      ],
      "metadata": {
        "id": "k6htFmbV-Nst"
      },
      "execution_count": null,
      "outputs": []
    },
    {
      "cell_type": "code",
      "source": [
        "print(idx)\n",
        "print(len(var_elevations))\n",
        "print(len(mean_elevations))"
      ],
      "metadata": {
        "id": "K5dj1DYMJTaP"
      },
      "execution_count": null,
      "outputs": []
    },
    {
      "cell_type": "code",
      "source": [
        "grid_cells_pd['elevation_m'] = mean_elevations\n",
        "grid_cells_pd['elevation_var_m'] = var_elevations"
      ],
      "metadata": {
        "id": "VkgqfRPzVmuf"
      },
      "execution_count": null,
      "outputs": []
    },
    {
      "cell_type": "code",
      "source": [
        "grid_cells_pd = grid_cells_pd[['cell_id', 'latitude', 'longitude', 'region', 'elevation_m','elevation_var_m']]"
      ],
      "metadata": {
        "id": "FiYcmi_Bdg0o"
      },
      "execution_count": null,
      "outputs": []
    },
    {
      "cell_type": "code",
      "source": [
        "grid_cells_pd.sample(3)"
      ],
      "metadata": {
        "id": "Ll9jT1PSdkzm"
      },
      "execution_count": null,
      "outputs": []
    },
    {
      "cell_type": "code",
      "source": [
        "grid_cells_pd.to_parquet('/content/drive/MyDrive/snocast/eval/grid_cells_elev.parquet')"
      ],
      "metadata": {
        "id": "lTErwOkXHXxZ"
      },
      "execution_count": null,
      "outputs": []
    }
  ]
}