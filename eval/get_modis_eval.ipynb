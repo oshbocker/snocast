{
  "cells": [
    {
      "cell_type": "code",
      "execution_count": null,
      "metadata": {
        "id": "hulA24FNQ1m5"
      },
      "outputs": [],
      "source": [
        "from google.colab import drive\n",
        "drive.mount('/content/drive')"
      ]
    },
    {
      "cell_type": "code",
      "execution_count": null,
      "metadata": {
        "id": "G8ViTTAaQ6H6"
      },
      "outputs": [],
      "source": [
        "import json\n",
        "import pandas as pd\n",
        "import numpy as np\n",
        "import datetime\n",
        "import ee"
      ]
    },
    {
      "cell_type": "markdown",
      "metadata": {
        "id": "IezUf5ccSSn6"
      },
      "source": [
        "## Import Base Data Files"
      ]
    },
    {
      "cell_type": "code",
      "execution_count": null,
      "metadata": {
        "id": "9Lg6EdLiRZ8_"
      },
      "outputs": [],
      "source": [
        "ground_measures_metadata = pd.read_csv('/content/drive/MyDrive/snocast/eval/data/ground_measures_metadata.csv')\n",
        "submission_format = pd.read_csv('/content/drive/MyDrive/snocast/eval/data/submission_format.csv')\n",
        "run_date = '2022-02-10'\n",
        "lookback = 15"
      ]
    },
    {
      "cell_type": "code",
      "execution_count": null,
      "metadata": {
        "id": "k0GJtFEFR7mj"
      },
      "outputs": [],
      "source": [
        "# get latitude longitude for grids\n",
        "f = open('/content/drive/MyDrive/snocast/eval/data/grid_cells.geojson')\n",
        "grid_cells = json.load(f)\n",
        "print('length grid_cells features: ', len(grid_cells['features']))\n",
        "\n",
        "ids = []\n",
        "lats = []\n",
        "lons = []\n",
        "bboxes = []\n",
        "\n",
        "for grid_cell in grid_cells['features']:\n",
        "    cell_id = grid_cell['properties']['cell_id']\n",
        "    coordinates = grid_cell['geometry']['coordinates'][0]\n",
        "    lon, lat = np.mean(coordinates, axis=0)\n",
        "    northeast_corner = np.max(coordinates, axis=0)\n",
        "    southwest_corner = np.min(coordinates, axis=0)\n",
        "    # bbox = [min_lon, min_lat, max_lon, max_lat]\n",
        "    bbox = np.concatenate([southwest_corner,northeast_corner])\n",
        "    ids.append(cell_id)\n",
        "    lats.append(lat)\n",
        "    lons.append(lon)\n",
        "    bboxes.append(bbox)\n",
        "\n",
        "grid_cells_pd = pd.DataFrame({'location_id': ids, \n",
        "                             'latitude': lats, \n",
        "                             'longitude': lons, \n",
        "                             'bbox': bboxes})"
      ]
    },
    {
      "cell_type": "code",
      "execution_count": null,
      "metadata": {
        "id": "-z2IQlUr-RM5"
      },
      "outputs": [],
      "source": [
        "# Trigger the authentication flow.\n",
        "ee.Authenticate()\n",
        "\n",
        "# Initialize the library.\n",
        "ee.Initialize()"
      ]
    },
    {
      "cell_type": "code",
      "execution_count": null,
      "metadata": {
        "id": "iYs19q9C-JKk"
      },
      "outputs": [],
      "source": [
        "# Import the MODIS Terra Snow Cover Daily Global 500m collection.\n",
        "terra = ee.ImageCollection('MODIS/006/MOD10A1')\n",
        "\n",
        "# Import the MODIS Aqua Snow Cover Daily Global 500m collection.\n",
        "aqua = ee.ImageCollection('MODIS/006/MYD10A1')"
      ]
    },
    {
      "cell_type": "code",
      "execution_count": null,
      "metadata": {
        "id": "XJ1G7Pdx7DjG"
      },
      "outputs": [],
      "source": [
        "# Need filter for max date to be one day ahead\n",
        "max_date = (datetime.datetime.strptime(run_date,'%Y-%m-%d') + datetime.timedelta(days=1)).strftime('%Y-%m-%d')\n",
        "min_date = (datetime.datetime.strptime(run_date,'%Y-%m-%d') - datetime.timedelta(days=lookback+1)).strftime('%Y-%m-%d')\n",
        "print(min_date, max_date)"
      ]
    },
    {
      "cell_type": "code",
      "execution_count": null,
      "metadata": {
        "id": "kgM8TV1H_-Nb"
      },
      "outputs": [],
      "source": [
        "modis_cols = ['location_id','latitude','longitude']\n",
        "unique_ids = grid_cells_pd[modis_cols]\n",
        "print(unique_ids.shape)"
      ]
    },
    {
      "cell_type": "code",
      "execution_count": null,
      "metadata": {
        "id": "ptrIsnawcCVh"
      },
      "outputs": [],
      "source": [
        "terra_snow_cover = terra.select('NDSI_Snow_Cover').filterDate(min_date, max_date)\n",
        "aqua_snow_cover = aqua.select('NDSI_Snow_Cover').filterDate(min_date, max_date)\n",
        "terra_info = terra_snow_cover.getInfo()['features']\n",
        "aqua_info = aqua_snow_cover.getInfo()['features']\n",
        "print('Terra min date: ', terra_info[0]['properties']['system:index'])\n",
        "print('Terra max date: ', terra_info[-1]['properties']['system:index'])\n",
        "print('Aqua min date: ', aqua_info[0]['properties']['system:index'])\n",
        "print('Aqua max date: ', aqua_info[-1]['properties']['system:index'])"
      ]
    },
    {
      "cell_type": "code",
      "execution_count": null,
      "metadata": {
        "id": "ehwb17ti-BqJ"
      },
      "outputs": [],
      "source": [
        "output_cols = ['date',\n",
        "            'longitude',\n",
        "            'latitude',\n",
        "            'time',\n",
        "            'NDSI_Snow_Cover']\n",
        "            \n",
        "terra_list = []\n",
        "aqua_list = []\n",
        "terra_ids = []\n",
        "aqua_ids = []"
      ]
    },
    {
      "cell_type": "code",
      "execution_count": null,
      "metadata": {
        "id": "6q8QrfwYRoYX"
      },
      "outputs": [],
      "source": [
        "# Runs in 4 hours\n",
        "for idx, row in unique_ids.iterrows():\n",
        "  if idx % 250 == 0:\n",
        "    print(idx)\n",
        "\n",
        "  # Define a region of interest with a buffer zone of 500 m\n",
        "  poi = ee.Geometry.Point(row['longitude'], row['latitude'])\n",
        "  roi = poi.buffer(500)\n",
        "\n",
        "  terra_data = terra_snow_cover.getRegion(roi, scale=500).getInfo()[1:]\n",
        "  terra_ids.extend([row['location_id']]*len(terra_data))\n",
        "  terra_list.extend(terra_data)\n",
        "\n",
        "  aqua_data = aqua_snow_cover.getRegion(roi, scale=500).getInfo()[1:]\n",
        "  aqua_ids.extend([row['location_id']]*len(aqua_data))\n",
        "  aqua_list.extend(aqua_data)\n",
        "\n",
        "  if idx % 4000 == 0 and idx != 0:\n",
        "    print(idx)\n",
        "    print('Saving output for {} ...'.format(run_date))\n",
        "\n",
        "    terra_df = pd.DataFrame(terra_list, columns=output_cols)\n",
        "    terra_df['location_id'] = terra_ids\n",
        "\n",
        "    aqua_df = pd.DataFrame(aqua_list, columns=output_cols)\n",
        "    aqua_df['location_id'] = aqua_ids\n",
        "\n",
        "    terra_df.to_parquet('/content/drive/MyDrive/snocast/eval/data/modis/modis_terra_{}.parquet'.format(run_date))\n",
        "    aqua_df.to_parquet('/content/drive/MyDrive/snocast/eval/data/modis/modis_aqua_{}.parquet'.format(run_date))\n",
        "\n",
        "print(idx)\n",
        "print('Saving output for {} ...'.format(run_date))\n",
        "\n",
        "terra_df = pd.DataFrame(terra_list, columns=output_cols)\n",
        "terra_df['location_id'] = terra_ids\n",
        "\n",
        "aqua_df = pd.DataFrame(aqua_list, columns=output_cols)\n",
        "aqua_df['location_id'] = aqua_ids\n",
        "\n",
        "terra_df.to_parquet(f'/content/drive/MyDrive/snocast/eval/data/modis/modis_terra_{run_date}.parquet')\n",
        "aqua_df.to_parquet(f'/content/drive/MyDrive/snocast/eval/data/modis/modis_aqua_{run_date}.parquet')"
      ]
    },
    {
      "cell_type": "code",
      "execution_count": null,
      "metadata": {
        "id": "2kXxjG5MG1jn"
      },
      "outputs": [],
      "source": [
        ""
      ]
    }
  ],
  "metadata": {
    "colab": {
      "background_execution": "on",
      "collapsed_sections": [],
      "machine_shape": "hm",
      "name": "get_modis_eval.ipynb",
      "provenance": []
    },
    "kernelspec": {
      "display_name": "Python 3",
      "name": "python3"
    },
    "language_info": {
      "name": "python"
    }
  },
  "nbformat": 4,
  "nbformat_minor": 0
}