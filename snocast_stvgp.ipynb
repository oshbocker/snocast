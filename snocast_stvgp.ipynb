{
  "nbformat": 4,
  "nbformat_minor": 0,
  "metadata": {
    "colab": {
      "name": "snocast_stvgp.ipynb",
      "provenance": [],
      "machine_shape": "hm",
      "background_execution": "on",
      "collapsed_sections": [],
      "authorship_tag": "ABX9TyPoJDKGAEFnuQxvschDsYAC",
      "include_colab_link": true
    },
    "kernelspec": {
      "name": "python3",
      "display_name": "Python 3"
    },
    "language_info": {
      "name": "python"
    },
    "accelerator": "GPU"
  },
  "cells": [
    {
      "cell_type": "markdown",
      "metadata": {
        "id": "view-in-github",
        "colab_type": "text"
      },
      "source": [
        "<a href=\"https://colab.research.google.com/github/oshbocker/snocast/blob/main/snocast_stvgp.ipynb\" target=\"_parent\"><img src=\"https://colab.research.google.com/assets/colab-badge.svg\" alt=\"Open In Colab\"/></a>"
      ]
    },
    {
      "cell_type": "code",
      "source": [
        "from google.colab import drive\n",
        "drive.mount('/content/drive')"
      ],
      "metadata": {
        "colab": {
          "base_uri": "https://localhost:8080/"
        },
        "id": "nqOkTpVfCvi7",
        "outputId": "6e09c164-a019-4e1e-9255-fd5c407d2982"
      },
      "execution_count": 43,
      "outputs": [
        {
          "output_type": "stream",
          "name": "stdout",
          "text": [
            "Drive already mounted at /content/drive; to attempt to forcibly remount, call drive.mount(\"/content/drive\", force_remount=True).\n"
          ]
        }
      ]
    },
    {
      "cell_type": "code",
      "source": [
        "!pip install bayesnewton\n",
        "!pip install objax"
      ],
      "metadata": {
        "colab": {
          "base_uri": "https://localhost:8080/"
        },
        "id": "2XRhIQ5eg_Tb",
        "outputId": "48df1f12-98eb-4173-89bb-87f75c23a429"
      },
      "execution_count": 44,
      "outputs": [
        {
          "output_type": "stream",
          "name": "stdout",
          "text": [
            "Requirement already satisfied: bayesnewton in /usr/local/lib/python3.7/dist-packages (1.1)\n",
            "Requirement already satisfied: objax in /usr/local/lib/python3.7/dist-packages (1.5.0)\n",
            "Requirement already satisfied: jaxlib in /usr/local/lib/python3.7/dist-packages (from objax) (0.1.71+cuda111)\n",
            "Requirement already satisfied: scipy in /usr/local/lib/python3.7/dist-packages (from objax) (1.4.1)\n",
            "Requirement already satisfied: parameterized in /usr/local/lib/python3.7/dist-packages (from objax) (0.8.1)\n",
            "Requirement already satisfied: tensorboard>=2.3.0 in /usr/local/lib/python3.7/dist-packages (from objax) (2.7.0)\n",
            "Requirement already satisfied: jax>=0.2.10 in /usr/local/lib/python3.7/dist-packages (from objax) (0.2.25)\n",
            "Requirement already satisfied: numpy>=1.18.0 in /usr/local/lib/python3.7/dist-packages (from objax) (1.19.5)\n",
            "Requirement already satisfied: pillow in /usr/local/lib/python3.7/dist-packages (from objax) (7.1.2)\n",
            "Requirement already satisfied: typing-extensions in /usr/local/lib/python3.7/dist-packages (from jax>=0.2.10->objax) (3.10.0.2)\n",
            "Requirement already satisfied: absl-py in /usr/local/lib/python3.7/dist-packages (from jax>=0.2.10->objax) (0.12.0)\n",
            "Requirement already satisfied: opt-einsum in /usr/local/lib/python3.7/dist-packages (from jax>=0.2.10->objax) (3.3.0)\n",
            "Requirement already satisfied: werkzeug>=0.11.15 in /usr/local/lib/python3.7/dist-packages (from tensorboard>=2.3.0->objax) (1.0.1)\n",
            "Requirement already satisfied: protobuf>=3.6.0 in /usr/local/lib/python3.7/dist-packages (from tensorboard>=2.3.0->objax) (3.17.3)\n",
            "Requirement already satisfied: wheel>=0.26 in /usr/local/lib/python3.7/dist-packages (from tensorboard>=2.3.0->objax) (0.37.1)\n",
            "Requirement already satisfied: requests<3,>=2.21.0 in /usr/local/lib/python3.7/dist-packages (from tensorboard>=2.3.0->objax) (2.23.0)\n",
            "Requirement already satisfied: google-auth-oauthlib<0.5,>=0.4.1 in /usr/local/lib/python3.7/dist-packages (from tensorboard>=2.3.0->objax) (0.4.6)\n",
            "Requirement already satisfied: setuptools>=41.0.0 in /usr/local/lib/python3.7/dist-packages (from tensorboard>=2.3.0->objax) (57.4.0)\n",
            "Requirement already satisfied: tensorboard-data-server<0.7.0,>=0.6.0 in /usr/local/lib/python3.7/dist-packages (from tensorboard>=2.3.0->objax) (0.6.1)\n",
            "Requirement already satisfied: grpcio>=1.24.3 in /usr/local/lib/python3.7/dist-packages (from tensorboard>=2.3.0->objax) (1.43.0)\n",
            "Requirement already satisfied: tensorboard-plugin-wit>=1.6.0 in /usr/local/lib/python3.7/dist-packages (from tensorboard>=2.3.0->objax) (1.8.1)\n",
            "Requirement already satisfied: markdown>=2.6.8 in /usr/local/lib/python3.7/dist-packages (from tensorboard>=2.3.0->objax) (3.3.6)\n",
            "Requirement already satisfied: google-auth<3,>=1.6.3 in /usr/local/lib/python3.7/dist-packages (from tensorboard>=2.3.0->objax) (1.35.0)\n",
            "Requirement already satisfied: six in /usr/local/lib/python3.7/dist-packages (from absl-py->jax>=0.2.10->objax) (1.15.0)\n",
            "Requirement already satisfied: rsa<5,>=3.1.4 in /usr/local/lib/python3.7/dist-packages (from google-auth<3,>=1.6.3->tensorboard>=2.3.0->objax) (4.8)\n",
            "Requirement already satisfied: cachetools<5.0,>=2.0.0 in /usr/local/lib/python3.7/dist-packages (from google-auth<3,>=1.6.3->tensorboard>=2.3.0->objax) (4.2.4)\n",
            "Requirement already satisfied: pyasn1-modules>=0.2.1 in /usr/local/lib/python3.7/dist-packages (from google-auth<3,>=1.6.3->tensorboard>=2.3.0->objax) (0.2.8)\n",
            "Requirement already satisfied: requests-oauthlib>=0.7.0 in /usr/local/lib/python3.7/dist-packages (from google-auth-oauthlib<0.5,>=0.4.1->tensorboard>=2.3.0->objax) (1.3.0)\n",
            "Requirement already satisfied: importlib-metadata>=4.4 in /usr/local/lib/python3.7/dist-packages (from markdown>=2.6.8->tensorboard>=2.3.0->objax) (4.10.0)\n",
            "Requirement already satisfied: zipp>=0.5 in /usr/local/lib/python3.7/dist-packages (from importlib-metadata>=4.4->markdown>=2.6.8->tensorboard>=2.3.0->objax) (3.7.0)\n",
            "Requirement already satisfied: pyasn1<0.5.0,>=0.4.6 in /usr/local/lib/python3.7/dist-packages (from pyasn1-modules>=0.2.1->google-auth<3,>=1.6.3->tensorboard>=2.3.0->objax) (0.4.8)\n",
            "Requirement already satisfied: urllib3!=1.25.0,!=1.25.1,<1.26,>=1.21.1 in /usr/local/lib/python3.7/dist-packages (from requests<3,>=2.21.0->tensorboard>=2.3.0->objax) (1.24.3)\n",
            "Requirement already satisfied: certifi>=2017.4.17 in /usr/local/lib/python3.7/dist-packages (from requests<3,>=2.21.0->tensorboard>=2.3.0->objax) (2021.10.8)\n",
            "Requirement already satisfied: chardet<4,>=3.0.2 in /usr/local/lib/python3.7/dist-packages (from requests<3,>=2.21.0->tensorboard>=2.3.0->objax) (3.0.4)\n",
            "Requirement already satisfied: idna<3,>=2.5 in /usr/local/lib/python3.7/dist-packages (from requests<3,>=2.21.0->tensorboard>=2.3.0->objax) (2.10)\n",
            "Requirement already satisfied: oauthlib>=3.0.0 in /usr/local/lib/python3.7/dist-packages (from requests-oauthlib>=0.7.0->google-auth-oauthlib<0.5,>=0.4.1->tensorboard>=2.3.0->objax) (3.1.1)\n",
            "Requirement already satisfied: flatbuffers<3.0,>=1.12 in /usr/local/lib/python3.7/dist-packages (from jaxlib->objax) (2.0)\n"
          ]
        }
      ]
    },
    {
      "cell_type": "code",
      "execution_count": 45,
      "metadata": {
        "id": "muqUwpX4_9o7"
      },
      "outputs": [],
      "source": [
        "import bayesnewton\n",
        "import objax\n",
        "import pickle\n",
        "import time\n",
        "import sys\n",
        "from scipy.cluster.vq import kmeans2\n",
        "from jax.lib import xla_bridge\n",
        "import json\n",
        "import pandas as pd\n",
        "import numpy as np\n",
        "from collections import defaultdict"
      ]
    },
    {
      "cell_type": "code",
      "source": [
        "ground_measures_train = pd.read_csv('/content/drive/MyDrive/snocast/dev/ground_measures_train_features.csv')\n",
        "ground_measures_train.columns = ['station_id'] + list(ground_measures_train.columns[1:])\n",
        "gm_melt_train = ground_measures_train.melt(id_vars=[\"station_id\"],\n",
        "                                            var_name=\"date\",\n",
        "                                            value_name=\"swe\").dropna()\n",
        "            \n",
        "\n",
        "ground_measures_test = pd.read_csv('/content/drive/MyDrive/snocast/dev/ground_measures_test_features.csv')\n",
        "ground_measures_test.columns = ['station_id'] + list(ground_measures_test.columns[1:])\n",
        "gm_melt_test = ground_measures_test.melt(id_vars=[\"station_id\"],\n",
        "                           var_name=\"date\",\n",
        "                           value_name=\"swe\").dropna()\n",
        "\n",
        "ground_measures_metadata = pd.read_csv('/content/drive/MyDrive/snocast/dev/ground_measures_metadata.csv')\n",
        "ground_measures_all = pd.concat([ground_measures_train, ground_measures_test], axis=1)\n",
        "\n",
        "\n",
        "train_labels = pd.read_csv('/content/drive/MyDrive/snocast/dev/train_labels.csv')\n",
        "labels_melt_train = train_labels.melt(id_vars=[\"cell_id\"],\n",
        "                  var_name=\"date\",\n",
        "                  value_name=\"swe\").dropna()\n",
        "\n",
        "submission_format = pd.read_csv('/content/drive/MyDrive/snocast/dev/submission_format.csv')\n",
        "preds_melt_test = submission_format.melt(id_vars=[\"cell_id\"],\n",
        "                  var_name=\"date\",\n",
        "                  value_name=\"swe\").dropna()\n",
        "\n",
        "train_label_unique = pd.read_csv('/content/drive/MyDrive/snocast/dev/train_label_unique.csv')\n",
        "test_pred_unique = pd.read_csv('/content/drive/MyDrive/snocast/dev/test_pred_unique.csv')\n",
        "\n",
        "# Get all of the ground measure locations that have data for every date\n",
        "new_cols = [c for c in ground_measures_all.columns if c > '2014-08-01']\n",
        "gm_all_non_nan = ground_measures_all.loc[ground_measures_all[new_cols].isna().sum(axis=1) == 0]"
      ],
      "metadata": {
        "id": "mshiRZnECY4C"
      },
      "execution_count": 46,
      "outputs": []
    },
    {
      "cell_type": "markdown",
      "source": [
        "## Utils"
      ],
      "metadata": {
        "id": "6hJZxiaCzKzB"
      }
    },
    {
      "cell_type": "code",
      "source": [
        "def datetime_to_epoch(datetime):\n",
        "    \"\"\"\n",
        "        Converts a datetime to a number\n",
        "        args:\n",
        "            datatime: is a pandas column\n",
        "    \"\"\"\n",
        "    return datetime.astype('int64')//1e9\n",
        "\n",
        "def epoch_to_datetime(epoch):\n",
        "    return datetime.datetime.fromtimestamp(epoch)"
      ],
      "metadata": {
        "id": "9xMZ0QTIxUMQ"
      },
      "execution_count": 47,
      "outputs": []
    },
    {
      "cell_type": "code",
      "source": [
        "def pad_with_nan_to_make_grid(X, Y):\n",
        "    #converts data into grid\n",
        "\n",
        "    N = X.shape[0]\n",
        "\n",
        "    #construct target grid\n",
        "    unique_time = np.unique(X[:, 0])\n",
        "    unique_space = np.unique(X[:, 1:], axis=0)\n",
        "\n",
        "    Nt = unique_time.shape[0]\n",
        "    Ns = unique_space.shape[0]\n",
        "\n",
        "    print('grid size:', N, Nt, Ns, Nt*Ns)\n",
        "\n",
        "    X_tmp = np.tile(np.expand_dims(unique_space, 0), [Nt, 1, 1])\n",
        "\n",
        "    time_tmp = np.tile(unique_time, [Ns]).reshape([Nt, Ns], order='F')\n",
        "\n",
        "    X_tmp = X_tmp.reshape([Nt*Ns, -1])\n",
        "\n",
        "    time_tmp = time_tmp.reshape([Nt*Ns, 1])\n",
        "\n",
        "    #X_tmp is the full grid\n",
        "    X_tmp = np.hstack([time_tmp, X_tmp])\n",
        "\n",
        "    #Find the indexes in X_tmp that we need to add to X to make a full grid\n",
        "    _X = np.vstack([X,  X_tmp])\n",
        "    _Y = np.nan*np.zeros([_X.shape[0], 1])\n",
        "\n",
        "    _, idx = np.unique(_X, return_index=True, axis=0)\n",
        "    idx = idx[idx>=N]\n",
        "    print('unique points: ', idx.shape)\n",
        "\n",
        "    X_to_add = _X[idx, :]\n",
        "    Y_to_add = _Y[idx, :]\n",
        "\n",
        "    X_grid = np.vstack([X, X_to_add])\n",
        "    Y_grid = np.vstack([Y, Y_to_add])\n",
        "\n",
        "    #sort for good measure\n",
        "    _X = np.roll(X_grid, -1, axis=1)\n",
        "    #sort by time points first\n",
        "    idx = np.lexsort(_X.T)\n",
        "\n",
        "    return X_grid[idx], Y_grid[idx]"
      ],
      "metadata": {
        "id": "vzu_snVLzOx1"
      },
      "execution_count": 48,
      "outputs": []
    },
    {
      "cell_type": "code",
      "source": [
        "def normalise_df(x, wrt_to):\n",
        "    return (x - np.mean(wrt_to, axis=0))/np.std(wrt_to, axis=0)"
      ],
      "metadata": {
        "id": "R4XiAje00Vee"
      },
      "execution_count": 49,
      "outputs": []
    },
    {
      "cell_type": "markdown",
      "source": [
        "## Data Munging"
      ],
      "metadata": {
        "id": "cnMIE6etTwl4"
      }
    },
    {
      "cell_type": "code",
      "source": [
        "# sequential swe by latitude and longitude for ground measure stations\n",
        "train_gm_seq = pd.merge(gm_melt_train, ground_measures_metadata, how='inner', on='station_id')\n",
        "train_gm_seq['date'] = pd.to_datetime(train_gm_seq['date'])\n",
        "train_gm_seq['epoch'] = datetime_to_epoch(train_gm_seq['date'])\n",
        "\n",
        "test_gm_seq = pd.merge(gm_melt_test, ground_measures_metadata, how='inner', on='station_id')\n",
        "test_gm_seq['date'] = pd.to_datetime(test_gm_seq['date'])\n",
        "test_gm_seq['epoch'] = datetime_to_epoch(test_gm_seq['date'])"
      ],
      "metadata": {
        "id": "WIrUhEn8Xd6D"
      },
      "execution_count": 50,
      "outputs": []
    },
    {
      "cell_type": "code",
      "source": [
        "# get latitude longitude for train and test grids\n",
        "f = open('/content/drive/MyDrive/snocast/dev/grid_cells.geojson')\n",
        "grid_cells = json.load(f)\n",
        "print('length grid_cells features: ', len(grid_cells['features']))\n",
        "\n",
        "grid_features = defaultdict(dict)\n",
        "for grid_cell in grid_cells['features']:\n",
        "  cell_id = grid_cell['properties']['cell_id']\n",
        "  coordinates = grid_cell['geometry']['coordinates'][0]\n",
        "  region = grid_cell['properties']['region']\n",
        "  grid_features[cell_id] = {'coordinates': coordinates[1:],\n",
        "                            'region': region}\n",
        "\n",
        "grid_features_train = defaultdict(dict)\n",
        "train_ids = []\n",
        "train_lats = []\n",
        "train_lons = []\n",
        "train_regions = []\n",
        "train_bboxes = []\n",
        "grid_features_test = defaultdict(dict)\n",
        "test_ids = []\n",
        "test_lats = []\n",
        "test_lons = []\n",
        "test_regions = []\n",
        "test_bboxes = []\n",
        "\n",
        "\n",
        "for cell_id in train_labels['cell_id'].values:\n",
        "  train_ids.append(cell_id)\n",
        "  lon, lat = np.mean(grid_features[cell_id]['coordinates'], axis=0)\n",
        "  northeast_corner = np.max(grid_features[cell_id]['coordinates'], axis=0)\n",
        "  southwest_corner = np.min(grid_features[cell_id]['coordinates'], axis=0)\n",
        "  # bbox = [min_lon, min_lat, max_lon, max_lat]\n",
        "  bbox = np.concatenate([southwest_corner,northeast_corner])\n",
        "  train_regions.append(grid_features[cell_id]['region'])\n",
        "  train_lats.append(lat)\n",
        "  train_lons.append(lon)\n",
        "  train_bboxes.append(bbox)\n",
        "\n",
        "  grid_features[cell_id]['dataset'] = 'train'\n",
        "\n",
        "for cell_id in submission_format['cell_id'].values:\n",
        "  test_ids.append(cell_id)\n",
        "  lon, lat = np.mean(grid_features[cell_id]['coordinates'], axis=0)\n",
        "  northeast_corner = np.max(grid_features[cell_id]['coordinates'], axis=0)\n",
        "  southwest_corner = np.min(grid_features[cell_id]['coordinates'], axis=0)\n",
        "  bbox = np.concatenate([southwest_corner,northeast_corner])\n",
        "  test_regions.append(grid_features[cell_id]['region'])\n",
        "  test_lats.append(lat)\n",
        "  test_lons.append(lon)\n",
        "  test_bboxes.append(bbox)\n",
        "\n",
        "  if 'dataset' in grid_features[cell_id].keys():\n",
        "    grid_features[cell_id]['dataset'] = 'both'\n",
        "  else:\n",
        "    grid_features[cell_id]['dataset'] = 'test'\n",
        "\n",
        "for cell_id in grid_features:\n",
        "  if grid_features[cell_id]['dataset'] in ('test','both'):\n",
        "    grid_features_test[cell_id] = grid_features[cell_id]\n",
        "  if grid_features[cell_id]['dataset'] in ('train','both'):\n",
        "    grid_features_train[cell_id] = grid_features[cell_id]\n",
        "print(\"test count: \", len(grid_features_test))\n",
        "print(\"train count: \", len(grid_features_train))\n",
        "\n",
        "\n",
        "train_lat_lon = pd.DataFrame({'cell_id': train_ids, \n",
        "                              'latitude': train_lats, \n",
        "                              'longitude': train_lons, \n",
        "                              'region': train_regions,\n",
        "                              'bbox': train_bboxes})\n",
        "test_lat_lon = pd.DataFrame({'cell_id': test_ids, \n",
        "                             'latitude': test_lats, \n",
        "                             'longitude': test_lons, \n",
        "                             'region': test_regions,\n",
        "                             'bbox': test_bboxes})"
      ],
      "metadata": {
        "colab": {
          "base_uri": "https://localhost:8080/"
        },
        "id": "lBpi19GiERNQ",
        "outputId": "c54ec0c6-d83e-4035-8137-01986e8a7141"
      },
      "execution_count": 51,
      "outputs": [
        {
          "output_type": "stream",
          "name": "stdout",
          "text": [
            "length grid_cells features:  18130\n",
            "test count:  9066\n",
            "train count:  10878\n"
          ]
        }
      ]
    },
    {
      "cell_type": "code",
      "source": [
        "# Create sequential dataframes for train and test\n",
        "train_label_seq = pd.merge(labels_melt_train, train_lat_lon, how='inner', on='cell_id')\n",
        "train_label_seq['date'] = pd.to_datetime(train_label_seq['date'])\n",
        "train_label_seq['epoch'] = datetime_to_epoch(train_label_seq['date'])\n",
        "\n",
        "test_pred_seq = pd.merge(preds_melt_test, test_lat_lon, how='inner', on='cell_id')\n",
        "test_pred_seq['date'] = pd.to_datetime(test_pred_seq['date'])\n",
        "test_pred_seq['epoch'] = datetime_to_epoch(test_pred_seq['date'])"
      ],
      "metadata": {
        "id": "VyefZtgKvmmP"
      },
      "execution_count": 52,
      "outputs": []
    },
    {
      "cell_type": "code",
      "source": [
        "# Create dataframes for unique locations\n",
        "# train_label_unique = train_label_seq[['cell_id','latitude','longitude','bbox']].drop_duplicates('cell_id').reset_index(drop=True)\n",
        "train_label_unique['dataset'] = 'train'\n",
        "print(\"num_train_locations: \", len(train_label_unique))\n",
        "#test_pred_unique = test_pred_seq[['cell_id','latitude','longitude','bbox','region']].drop_duplicates('cell_id').reset_index(drop=True)\n",
        "test_pred_unique['dataset'] = 'test'\n",
        "print(\"num_test_locations: \", len(test_pred_unique))\n",
        "gm_unique = ground_measures_metadata[['station_id','latitude','longitude','elevation_m']].reset_index(drop=True)\n",
        "#gm_unique.columns = ['cell_id','latitude','longitude','elevation_m']\n",
        "gm_unique['dataset'] = 'gm'\n",
        "print(\"num_gm_locations: \", len(gm_unique))"
      ],
      "metadata": {
        "colab": {
          "base_uri": "https://localhost:8080/"
        },
        "id": "IVuzJjCFyQAF",
        "outputId": "758a5c9f-6bb3-4d10-ed14-2a872b73fbc8"
      },
      "execution_count": 53,
      "outputs": [
        {
          "output_type": "stream",
          "name": "stdout",
          "text": [
            "num_train_locations:  10878\n",
            "num_test_locations:  9066\n",
            "num_gm_locations:  700\n"
          ]
        }
      ]
    },
    {
      "cell_type": "markdown",
      "source": [
        "## Use Nearest Neighbor to prune less relevant locations"
      ],
      "metadata": {
        "id": "PNkCeKxdkiI4"
      }
    },
    {
      "cell_type": "code",
      "source": [
        "from sklearn.neighbors import KDTree\n",
        "\n",
        "# Builds the tree on the test data\n",
        "tree = KDTree(test_pred_unique[['longitude','latitude']], leaf_size=2)\n",
        "\n",
        "# Searches for nearest test neighbor for train_label and gm datasets\n",
        "label_dist, _ = tree.query(train_label_unique[['longitude','latitude']], k=1)\n",
        "gm_dist, _ = tree.query(gm_unique[['longitude','latitude']], k=1)\n",
        "\n",
        "# Keep data with nearest test neighbor under a certain percentile\n",
        "all_dist = np.concatenate([label_dist, gm_dist])\n",
        "keep = np.percentile(all_dist,97)\n",
        "train_label_prune = train_label_unique[(label_dist < keep).flatten()]\n",
        "gm_prune = gm_unique[(gm_dist < keep).flatten()]"
      ],
      "metadata": {
        "id": "JhQYWPgjX0mr"
      },
      "execution_count": 54,
      "outputs": []
    },
    {
      "cell_type": "code",
      "source": [
        "# def get_state(row):\n",
        "#   return gm_unique.loc[train_ind[row.name][0]].legend\n",
        "\n",
        "# train_label_unique['state'] = train_label_unique.apply(get_state, axis=1)"
      ],
      "metadata": {
        "id": "Z2zcowgr1K6m"
      },
      "execution_count": 55,
      "outputs": []
    },
    {
      "cell_type": "code",
      "source": [
        "# Prune locations far from test data\n",
        "train_label_seq = pd.merge(train_label_seq, train_label_prune[['cell_id']], how='inner')\n",
        "#print(gm_prune.columns)\n",
        "#gm_prune.columns = ['station_id', 'latitude', 'longitude','elevation_m','dataset']\n",
        "train_gm_seq = pd.merge(train_gm_seq, gm_prune[['station_id']], how='inner')\n",
        "print(train_label_prune.shape, gm_prune.shape)\n",
        "print(train_label_seq.shape, train_gm_seq.shape)\n",
        "\n",
        "# Prune measurements before September 2014\n",
        "# prune_date = pd.datetime(2015, 9, 1)\n",
        "# train_label_seq = train_label_seq[train_label_seq.date > prune_date]\n",
        "# train_gm_seq = train_gm_seq[train_gm_seq.date > prune_date]\n",
        "# print(train_label_seq.shape, train_gm_seq.shape)"
      ],
      "metadata": {
        "colab": {
          "base_uri": "https://localhost:8080/"
        },
        "id": "SPef9VeRvvNX",
        "outputId": "53163bf3-dd87-4dfc-b125-41dbf9b516c4"
      },
      "execution_count": 56,
      "outputs": [
        {
          "output_type": "stream",
          "name": "stdout",
          "text": [
            "(10554, 7) (676, 5)\n",
            "(90842, 8) (139129, 9)\n"
          ]
        }
      ]
    },
    {
      "cell_type": "markdown",
      "source": [
        "## Plot geo data"
      ],
      "metadata": {
        "id": "ef7NSrUrY6WD"
      }
    },
    {
      "cell_type": "code",
      "source": [
        "!pip install geopandas"
      ],
      "metadata": {
        "colab": {
          "base_uri": "https://localhost:8080/"
        },
        "id": "D5wGr_fVY2Cv",
        "outputId": "f0f089b5-1694-485a-a959-c4cae046d191"
      },
      "execution_count": 57,
      "outputs": [
        {
          "output_type": "stream",
          "name": "stdout",
          "text": [
            "Requirement already satisfied: geopandas in /usr/local/lib/python3.7/dist-packages (0.10.2)\n",
            "Requirement already satisfied: pyproj>=2.2.0 in /usr/local/lib/python3.7/dist-packages (from geopandas) (3.2.1)\n",
            "Requirement already satisfied: pandas>=0.25.0 in /usr/local/lib/python3.7/dist-packages (from geopandas) (1.1.5)\n",
            "Requirement already satisfied: shapely>=1.6 in /usr/local/lib/python3.7/dist-packages (from geopandas) (1.8.0)\n",
            "Requirement already satisfied: fiona>=1.8 in /usr/local/lib/python3.7/dist-packages (from geopandas) (1.8.20)\n",
            "Requirement already satisfied: munch in /usr/local/lib/python3.7/dist-packages (from fiona>=1.8->geopandas) (2.5.0)\n",
            "Requirement already satisfied: click>=4.0 in /usr/local/lib/python3.7/dist-packages (from fiona>=1.8->geopandas) (7.1.2)\n",
            "Requirement already satisfied: six>=1.7 in /usr/local/lib/python3.7/dist-packages (from fiona>=1.8->geopandas) (1.15.0)\n",
            "Requirement already satisfied: cligj>=0.5 in /usr/local/lib/python3.7/dist-packages (from fiona>=1.8->geopandas) (0.7.2)\n",
            "Requirement already satisfied: click-plugins>=1.0 in /usr/local/lib/python3.7/dist-packages (from fiona>=1.8->geopandas) (1.1.1)\n",
            "Requirement already satisfied: certifi in /usr/local/lib/python3.7/dist-packages (from fiona>=1.8->geopandas) (2021.10.8)\n",
            "Requirement already satisfied: setuptools in /usr/local/lib/python3.7/dist-packages (from fiona>=1.8->geopandas) (57.4.0)\n",
            "Requirement already satisfied: attrs>=17 in /usr/local/lib/python3.7/dist-packages (from fiona>=1.8->geopandas) (21.4.0)\n",
            "Requirement already satisfied: pytz>=2017.2 in /usr/local/lib/python3.7/dist-packages (from pandas>=0.25.0->geopandas) (2018.9)\n",
            "Requirement already satisfied: python-dateutil>=2.7.3 in /usr/local/lib/python3.7/dist-packages (from pandas>=0.25.0->geopandas) (2.8.2)\n",
            "Requirement already satisfied: numpy>=1.15.4 in /usr/local/lib/python3.7/dist-packages (from pandas>=0.25.0->geopandas) (1.19.5)\n"
          ]
        }
      ]
    },
    {
      "cell_type": "markdown",
      "source": [
        "#### Use Clustering to identify similar regions"
      ],
      "metadata": {
        "id": "labUcw0w5DkK"
      }
    },
    {
      "cell_type": "code",
      "source": [
        "#location_unique = pd.concat([train_label_unique, test_pred_unique, gm_unique])\n",
        "location_unique = pd.concat([train_label_prune, test_pred_unique, gm_prune])\n",
        "location_unique.shape"
      ],
      "metadata": {
        "colab": {
          "base_uri": "https://localhost:8080/"
        },
        "id": "C7A1P_wmVmmu",
        "outputId": "53369e4d-ada0-42e6-de1d-ae733c0b9f31"
      },
      "execution_count": 58,
      "outputs": [
        {
          "output_type": "execute_result",
          "data": {
            "text/plain": [
              "(20296, 8)"
            ]
          },
          "metadata": {},
          "execution_count": 58
        }
      ]
    },
    {
      "cell_type": "code",
      "source": [
        "# scale data\n",
        "from sklearn.preprocessing import StandardScaler\n",
        "scaler = StandardScaler()\n",
        "location_unique[['scaled_lat','scaled_lon','scaled_elev']] = scaler.fit_transform(location_unique[['latitude','longitude','elevation_m']])"
      ],
      "metadata": {
        "id": "UPUp5Gqoym9c"
      },
      "execution_count": 60,
      "outputs": []
    },
    {
      "cell_type": "code",
      "source": [
        "from sklearn.cluster import AgglomerativeClustering, DBSCAN\n",
        "\n",
        "clustering = AgglomerativeClustering(n_clusters=50, linkage='ward').fit(location_unique[['scaled_lon','scaled_lat','scaled_elev']])\n",
        "location_unique['cluster'] = clustering.labels_"
      ],
      "metadata": {
        "id": "qoMrdR5y5B1e"
      },
      "execution_count": 61,
      "outputs": []
    },
    {
      "cell_type": "code",
      "source": [
        "num_cluster = 0\n",
        "cluster_df_array = []\n",
        "for cluster in location_unique['cluster'].unique():\n",
        "  cluster_df = location_unique[location_unique['cluster'] == cluster]\n",
        "  clustering = DBSCAN(eps=0.5, min_samples=2).fit(cluster_df[['scaled_lon','scaled_lat','scaled_elev']])\n",
        "  cluster_df['new_cluster'] = clustering.labels_ + num_cluster\n",
        "  cluster_df_array.append(cluster_df)\n",
        "  num_cluster += len(np.unique(clustering.labels_))"
      ],
      "metadata": {
        "colab": {
          "base_uri": "https://localhost:8080/"
        },
        "id": "ymuReSyEuPgg",
        "outputId": "385ec5ea-a73a-4302-f89d-7a3a846c67a3"
      },
      "execution_count": 62,
      "outputs": [
        {
          "output_type": "stream",
          "name": "stderr",
          "text": [
            "/usr/local/lib/python3.7/dist-packages/ipykernel_launcher.py:6: SettingWithCopyWarning: \n",
            "A value is trying to be set on a copy of a slice from a DataFrame.\n",
            "Try using .loc[row_indexer,col_indexer] = value instead\n",
            "\n",
            "See the caveats in the documentation: https://pandas.pydata.org/pandas-docs/stable/user_guide/indexing.html#returning-a-view-versus-a-copy\n",
            "  \n",
            "/usr/local/lib/python3.7/dist-packages/ipykernel_launcher.py:6: SettingWithCopyWarning: \n",
            "A value is trying to be set on a copy of a slice from a DataFrame.\n",
            "Try using .loc[row_indexer,col_indexer] = value instead\n",
            "\n",
            "See the caveats in the documentation: https://pandas.pydata.org/pandas-docs/stable/user_guide/indexing.html#returning-a-view-versus-a-copy\n",
            "  \n",
            "/usr/local/lib/python3.7/dist-packages/ipykernel_launcher.py:6: SettingWithCopyWarning: \n",
            "A value is trying to be set on a copy of a slice from a DataFrame.\n",
            "Try using .loc[row_indexer,col_indexer] = value instead\n",
            "\n",
            "See the caveats in the documentation: https://pandas.pydata.org/pandas-docs/stable/user_guide/indexing.html#returning-a-view-versus-a-copy\n",
            "  \n",
            "/usr/local/lib/python3.7/dist-packages/ipykernel_launcher.py:6: SettingWithCopyWarning: \n",
            "A value is trying to be set on a copy of a slice from a DataFrame.\n",
            "Try using .loc[row_indexer,col_indexer] = value instead\n",
            "\n",
            "See the caveats in the documentation: https://pandas.pydata.org/pandas-docs/stable/user_guide/indexing.html#returning-a-view-versus-a-copy\n",
            "  \n",
            "/usr/local/lib/python3.7/dist-packages/ipykernel_launcher.py:6: SettingWithCopyWarning: \n",
            "A value is trying to be set on a copy of a slice from a DataFrame.\n",
            "Try using .loc[row_indexer,col_indexer] = value instead\n",
            "\n",
            "See the caveats in the documentation: https://pandas.pydata.org/pandas-docs/stable/user_guide/indexing.html#returning-a-view-versus-a-copy\n",
            "  \n",
            "/usr/local/lib/python3.7/dist-packages/ipykernel_launcher.py:6: SettingWithCopyWarning: \n",
            "A value is trying to be set on a copy of a slice from a DataFrame.\n",
            "Try using .loc[row_indexer,col_indexer] = value instead\n",
            "\n",
            "See the caveats in the documentation: https://pandas.pydata.org/pandas-docs/stable/user_guide/indexing.html#returning-a-view-versus-a-copy\n",
            "  \n",
            "/usr/local/lib/python3.7/dist-packages/ipykernel_launcher.py:6: SettingWithCopyWarning: \n",
            "A value is trying to be set on a copy of a slice from a DataFrame.\n",
            "Try using .loc[row_indexer,col_indexer] = value instead\n",
            "\n",
            "See the caveats in the documentation: https://pandas.pydata.org/pandas-docs/stable/user_guide/indexing.html#returning-a-view-versus-a-copy\n",
            "  \n",
            "/usr/local/lib/python3.7/dist-packages/ipykernel_launcher.py:6: SettingWithCopyWarning: \n",
            "A value is trying to be set on a copy of a slice from a DataFrame.\n",
            "Try using .loc[row_indexer,col_indexer] = value instead\n",
            "\n",
            "See the caveats in the documentation: https://pandas.pydata.org/pandas-docs/stable/user_guide/indexing.html#returning-a-view-versus-a-copy\n",
            "  \n",
            "/usr/local/lib/python3.7/dist-packages/ipykernel_launcher.py:6: SettingWithCopyWarning: \n",
            "A value is trying to be set on a copy of a slice from a DataFrame.\n",
            "Try using .loc[row_indexer,col_indexer] = value instead\n",
            "\n",
            "See the caveats in the documentation: https://pandas.pydata.org/pandas-docs/stable/user_guide/indexing.html#returning-a-view-versus-a-copy\n",
            "  \n",
            "/usr/local/lib/python3.7/dist-packages/ipykernel_launcher.py:6: SettingWithCopyWarning: \n",
            "A value is trying to be set on a copy of a slice from a DataFrame.\n",
            "Try using .loc[row_indexer,col_indexer] = value instead\n",
            "\n",
            "See the caveats in the documentation: https://pandas.pydata.org/pandas-docs/stable/user_guide/indexing.html#returning-a-view-versus-a-copy\n",
            "  \n",
            "/usr/local/lib/python3.7/dist-packages/ipykernel_launcher.py:6: SettingWithCopyWarning: \n",
            "A value is trying to be set on a copy of a slice from a DataFrame.\n",
            "Try using .loc[row_indexer,col_indexer] = value instead\n",
            "\n",
            "See the caveats in the documentation: https://pandas.pydata.org/pandas-docs/stable/user_guide/indexing.html#returning-a-view-versus-a-copy\n",
            "  \n",
            "/usr/local/lib/python3.7/dist-packages/ipykernel_launcher.py:6: SettingWithCopyWarning: \n",
            "A value is trying to be set on a copy of a slice from a DataFrame.\n",
            "Try using .loc[row_indexer,col_indexer] = value instead\n",
            "\n",
            "See the caveats in the documentation: https://pandas.pydata.org/pandas-docs/stable/user_guide/indexing.html#returning-a-view-versus-a-copy\n",
            "  \n",
            "/usr/local/lib/python3.7/dist-packages/ipykernel_launcher.py:6: SettingWithCopyWarning: \n",
            "A value is trying to be set on a copy of a slice from a DataFrame.\n",
            "Try using .loc[row_indexer,col_indexer] = value instead\n",
            "\n",
            "See the caveats in the documentation: https://pandas.pydata.org/pandas-docs/stable/user_guide/indexing.html#returning-a-view-versus-a-copy\n",
            "  \n",
            "/usr/local/lib/python3.7/dist-packages/ipykernel_launcher.py:6: SettingWithCopyWarning: \n",
            "A value is trying to be set on a copy of a slice from a DataFrame.\n",
            "Try using .loc[row_indexer,col_indexer] = value instead\n",
            "\n",
            "See the caveats in the documentation: https://pandas.pydata.org/pandas-docs/stable/user_guide/indexing.html#returning-a-view-versus-a-copy\n",
            "  \n",
            "/usr/local/lib/python3.7/dist-packages/ipykernel_launcher.py:6: SettingWithCopyWarning: \n",
            "A value is trying to be set on a copy of a slice from a DataFrame.\n",
            "Try using .loc[row_indexer,col_indexer] = value instead\n",
            "\n",
            "See the caveats in the documentation: https://pandas.pydata.org/pandas-docs/stable/user_guide/indexing.html#returning-a-view-versus-a-copy\n",
            "  \n",
            "/usr/local/lib/python3.7/dist-packages/ipykernel_launcher.py:6: SettingWithCopyWarning: \n",
            "A value is trying to be set on a copy of a slice from a DataFrame.\n",
            "Try using .loc[row_indexer,col_indexer] = value instead\n",
            "\n",
            "See the caveats in the documentation: https://pandas.pydata.org/pandas-docs/stable/user_guide/indexing.html#returning-a-view-versus-a-copy\n",
            "  \n",
            "/usr/local/lib/python3.7/dist-packages/ipykernel_launcher.py:6: SettingWithCopyWarning: \n",
            "A value is trying to be set on a copy of a slice from a DataFrame.\n",
            "Try using .loc[row_indexer,col_indexer] = value instead\n",
            "\n",
            "See the caveats in the documentation: https://pandas.pydata.org/pandas-docs/stable/user_guide/indexing.html#returning-a-view-versus-a-copy\n",
            "  \n",
            "/usr/local/lib/python3.7/dist-packages/ipykernel_launcher.py:6: SettingWithCopyWarning: \n",
            "A value is trying to be set on a copy of a slice from a DataFrame.\n",
            "Try using .loc[row_indexer,col_indexer] = value instead\n",
            "\n",
            "See the caveats in the documentation: https://pandas.pydata.org/pandas-docs/stable/user_guide/indexing.html#returning-a-view-versus-a-copy\n",
            "  \n",
            "/usr/local/lib/python3.7/dist-packages/ipykernel_launcher.py:6: SettingWithCopyWarning: \n",
            "A value is trying to be set on a copy of a slice from a DataFrame.\n",
            "Try using .loc[row_indexer,col_indexer] = value instead\n",
            "\n",
            "See the caveats in the documentation: https://pandas.pydata.org/pandas-docs/stable/user_guide/indexing.html#returning-a-view-versus-a-copy\n",
            "  \n",
            "/usr/local/lib/python3.7/dist-packages/ipykernel_launcher.py:6: SettingWithCopyWarning: \n",
            "A value is trying to be set on a copy of a slice from a DataFrame.\n",
            "Try using .loc[row_indexer,col_indexer] = value instead\n",
            "\n",
            "See the caveats in the documentation: https://pandas.pydata.org/pandas-docs/stable/user_guide/indexing.html#returning-a-view-versus-a-copy\n",
            "  \n",
            "/usr/local/lib/python3.7/dist-packages/ipykernel_launcher.py:6: SettingWithCopyWarning: \n",
            "A value is trying to be set on a copy of a slice from a DataFrame.\n",
            "Try using .loc[row_indexer,col_indexer] = value instead\n",
            "\n",
            "See the caveats in the documentation: https://pandas.pydata.org/pandas-docs/stable/user_guide/indexing.html#returning-a-view-versus-a-copy\n",
            "  \n",
            "/usr/local/lib/python3.7/dist-packages/ipykernel_launcher.py:6: SettingWithCopyWarning: \n",
            "A value is trying to be set on a copy of a slice from a DataFrame.\n",
            "Try using .loc[row_indexer,col_indexer] = value instead\n",
            "\n",
            "See the caveats in the documentation: https://pandas.pydata.org/pandas-docs/stable/user_guide/indexing.html#returning-a-view-versus-a-copy\n",
            "  \n",
            "/usr/local/lib/python3.7/dist-packages/ipykernel_launcher.py:6: SettingWithCopyWarning: \n",
            "A value is trying to be set on a copy of a slice from a DataFrame.\n",
            "Try using .loc[row_indexer,col_indexer] = value instead\n",
            "\n",
            "See the caveats in the documentation: https://pandas.pydata.org/pandas-docs/stable/user_guide/indexing.html#returning-a-view-versus-a-copy\n",
            "  \n",
            "/usr/local/lib/python3.7/dist-packages/ipykernel_launcher.py:6: SettingWithCopyWarning: \n",
            "A value is trying to be set on a copy of a slice from a DataFrame.\n",
            "Try using .loc[row_indexer,col_indexer] = value instead\n",
            "\n",
            "See the caveats in the documentation: https://pandas.pydata.org/pandas-docs/stable/user_guide/indexing.html#returning-a-view-versus-a-copy\n",
            "  \n",
            "/usr/local/lib/python3.7/dist-packages/ipykernel_launcher.py:6: SettingWithCopyWarning: \n",
            "A value is trying to be set on a copy of a slice from a DataFrame.\n",
            "Try using .loc[row_indexer,col_indexer] = value instead\n",
            "\n",
            "See the caveats in the documentation: https://pandas.pydata.org/pandas-docs/stable/user_guide/indexing.html#returning-a-view-versus-a-copy\n",
            "  \n",
            "/usr/local/lib/python3.7/dist-packages/ipykernel_launcher.py:6: SettingWithCopyWarning: \n",
            "A value is trying to be set on a copy of a slice from a DataFrame.\n",
            "Try using .loc[row_indexer,col_indexer] = value instead\n",
            "\n",
            "See the caveats in the documentation: https://pandas.pydata.org/pandas-docs/stable/user_guide/indexing.html#returning-a-view-versus-a-copy\n",
            "  \n",
            "/usr/local/lib/python3.7/dist-packages/ipykernel_launcher.py:6: SettingWithCopyWarning: \n",
            "A value is trying to be set on a copy of a slice from a DataFrame.\n",
            "Try using .loc[row_indexer,col_indexer] = value instead\n",
            "\n",
            "See the caveats in the documentation: https://pandas.pydata.org/pandas-docs/stable/user_guide/indexing.html#returning-a-view-versus-a-copy\n",
            "  \n",
            "/usr/local/lib/python3.7/dist-packages/ipykernel_launcher.py:6: SettingWithCopyWarning: \n",
            "A value is trying to be set on a copy of a slice from a DataFrame.\n",
            "Try using .loc[row_indexer,col_indexer] = value instead\n",
            "\n",
            "See the caveats in the documentation: https://pandas.pydata.org/pandas-docs/stable/user_guide/indexing.html#returning-a-view-versus-a-copy\n",
            "  \n",
            "/usr/local/lib/python3.7/dist-packages/ipykernel_launcher.py:6: SettingWithCopyWarning: \n",
            "A value is trying to be set on a copy of a slice from a DataFrame.\n",
            "Try using .loc[row_indexer,col_indexer] = value instead\n",
            "\n",
            "See the caveats in the documentation: https://pandas.pydata.org/pandas-docs/stable/user_guide/indexing.html#returning-a-view-versus-a-copy\n",
            "  \n",
            "/usr/local/lib/python3.7/dist-packages/ipykernel_launcher.py:6: SettingWithCopyWarning: \n",
            "A value is trying to be set on a copy of a slice from a DataFrame.\n",
            "Try using .loc[row_indexer,col_indexer] = value instead\n",
            "\n",
            "See the caveats in the documentation: https://pandas.pydata.org/pandas-docs/stable/user_guide/indexing.html#returning-a-view-versus-a-copy\n",
            "  \n",
            "/usr/local/lib/python3.7/dist-packages/ipykernel_launcher.py:6: SettingWithCopyWarning: \n",
            "A value is trying to be set on a copy of a slice from a DataFrame.\n",
            "Try using .loc[row_indexer,col_indexer] = value instead\n",
            "\n",
            "See the caveats in the documentation: https://pandas.pydata.org/pandas-docs/stable/user_guide/indexing.html#returning-a-view-versus-a-copy\n",
            "  \n",
            "/usr/local/lib/python3.7/dist-packages/ipykernel_launcher.py:6: SettingWithCopyWarning: \n",
            "A value is trying to be set on a copy of a slice from a DataFrame.\n",
            "Try using .loc[row_indexer,col_indexer] = value instead\n",
            "\n",
            "See the caveats in the documentation: https://pandas.pydata.org/pandas-docs/stable/user_guide/indexing.html#returning-a-view-versus-a-copy\n",
            "  \n",
            "/usr/local/lib/python3.7/dist-packages/ipykernel_launcher.py:6: SettingWithCopyWarning: \n",
            "A value is trying to be set on a copy of a slice from a DataFrame.\n",
            "Try using .loc[row_indexer,col_indexer] = value instead\n",
            "\n",
            "See the caveats in the documentation: https://pandas.pydata.org/pandas-docs/stable/user_guide/indexing.html#returning-a-view-versus-a-copy\n",
            "  \n",
            "/usr/local/lib/python3.7/dist-packages/ipykernel_launcher.py:6: SettingWithCopyWarning: \n",
            "A value is trying to be set on a copy of a slice from a DataFrame.\n",
            "Try using .loc[row_indexer,col_indexer] = value instead\n",
            "\n",
            "See the caveats in the documentation: https://pandas.pydata.org/pandas-docs/stable/user_guide/indexing.html#returning-a-view-versus-a-copy\n",
            "  \n",
            "/usr/local/lib/python3.7/dist-packages/ipykernel_launcher.py:6: SettingWithCopyWarning: \n",
            "A value is trying to be set on a copy of a slice from a DataFrame.\n",
            "Try using .loc[row_indexer,col_indexer] = value instead\n",
            "\n",
            "See the caveats in the documentation: https://pandas.pydata.org/pandas-docs/stable/user_guide/indexing.html#returning-a-view-versus-a-copy\n",
            "  \n",
            "/usr/local/lib/python3.7/dist-packages/ipykernel_launcher.py:6: SettingWithCopyWarning: \n",
            "A value is trying to be set on a copy of a slice from a DataFrame.\n",
            "Try using .loc[row_indexer,col_indexer] = value instead\n",
            "\n",
            "See the caveats in the documentation: https://pandas.pydata.org/pandas-docs/stable/user_guide/indexing.html#returning-a-view-versus-a-copy\n",
            "  \n",
            "/usr/local/lib/python3.7/dist-packages/ipykernel_launcher.py:6: SettingWithCopyWarning: \n",
            "A value is trying to be set on a copy of a slice from a DataFrame.\n",
            "Try using .loc[row_indexer,col_indexer] = value instead\n",
            "\n",
            "See the caveats in the documentation: https://pandas.pydata.org/pandas-docs/stable/user_guide/indexing.html#returning-a-view-versus-a-copy\n",
            "  \n",
            "/usr/local/lib/python3.7/dist-packages/ipykernel_launcher.py:6: SettingWithCopyWarning: \n",
            "A value is trying to be set on a copy of a slice from a DataFrame.\n",
            "Try using .loc[row_indexer,col_indexer] = value instead\n",
            "\n",
            "See the caveats in the documentation: https://pandas.pydata.org/pandas-docs/stable/user_guide/indexing.html#returning-a-view-versus-a-copy\n",
            "  \n",
            "/usr/local/lib/python3.7/dist-packages/ipykernel_launcher.py:6: SettingWithCopyWarning: \n",
            "A value is trying to be set on a copy of a slice from a DataFrame.\n",
            "Try using .loc[row_indexer,col_indexer] = value instead\n",
            "\n",
            "See the caveats in the documentation: https://pandas.pydata.org/pandas-docs/stable/user_guide/indexing.html#returning-a-view-versus-a-copy\n",
            "  \n",
            "/usr/local/lib/python3.7/dist-packages/ipykernel_launcher.py:6: SettingWithCopyWarning: \n",
            "A value is trying to be set on a copy of a slice from a DataFrame.\n",
            "Try using .loc[row_indexer,col_indexer] = value instead\n",
            "\n",
            "See the caveats in the documentation: https://pandas.pydata.org/pandas-docs/stable/user_guide/indexing.html#returning-a-view-versus-a-copy\n",
            "  \n",
            "/usr/local/lib/python3.7/dist-packages/ipykernel_launcher.py:6: SettingWithCopyWarning: \n",
            "A value is trying to be set on a copy of a slice from a DataFrame.\n",
            "Try using .loc[row_indexer,col_indexer] = value instead\n",
            "\n",
            "See the caveats in the documentation: https://pandas.pydata.org/pandas-docs/stable/user_guide/indexing.html#returning-a-view-versus-a-copy\n",
            "  \n",
            "/usr/local/lib/python3.7/dist-packages/ipykernel_launcher.py:6: SettingWithCopyWarning: \n",
            "A value is trying to be set on a copy of a slice from a DataFrame.\n",
            "Try using .loc[row_indexer,col_indexer] = value instead\n",
            "\n",
            "See the caveats in the documentation: https://pandas.pydata.org/pandas-docs/stable/user_guide/indexing.html#returning-a-view-versus-a-copy\n",
            "  \n",
            "/usr/local/lib/python3.7/dist-packages/ipykernel_launcher.py:6: SettingWithCopyWarning: \n",
            "A value is trying to be set on a copy of a slice from a DataFrame.\n",
            "Try using .loc[row_indexer,col_indexer] = value instead\n",
            "\n",
            "See the caveats in the documentation: https://pandas.pydata.org/pandas-docs/stable/user_guide/indexing.html#returning-a-view-versus-a-copy\n",
            "  \n",
            "/usr/local/lib/python3.7/dist-packages/ipykernel_launcher.py:6: SettingWithCopyWarning: \n",
            "A value is trying to be set on a copy of a slice from a DataFrame.\n",
            "Try using .loc[row_indexer,col_indexer] = value instead\n",
            "\n",
            "See the caveats in the documentation: https://pandas.pydata.org/pandas-docs/stable/user_guide/indexing.html#returning-a-view-versus-a-copy\n",
            "  \n",
            "/usr/local/lib/python3.7/dist-packages/ipykernel_launcher.py:6: SettingWithCopyWarning: \n",
            "A value is trying to be set on a copy of a slice from a DataFrame.\n",
            "Try using .loc[row_indexer,col_indexer] = value instead\n",
            "\n",
            "See the caveats in the documentation: https://pandas.pydata.org/pandas-docs/stable/user_guide/indexing.html#returning-a-view-versus-a-copy\n",
            "  \n",
            "/usr/local/lib/python3.7/dist-packages/ipykernel_launcher.py:6: SettingWithCopyWarning: \n",
            "A value is trying to be set on a copy of a slice from a DataFrame.\n",
            "Try using .loc[row_indexer,col_indexer] = value instead\n",
            "\n",
            "See the caveats in the documentation: https://pandas.pydata.org/pandas-docs/stable/user_guide/indexing.html#returning-a-view-versus-a-copy\n",
            "  \n",
            "/usr/local/lib/python3.7/dist-packages/ipykernel_launcher.py:6: SettingWithCopyWarning: \n",
            "A value is trying to be set on a copy of a slice from a DataFrame.\n",
            "Try using .loc[row_indexer,col_indexer] = value instead\n",
            "\n",
            "See the caveats in the documentation: https://pandas.pydata.org/pandas-docs/stable/user_guide/indexing.html#returning-a-view-versus-a-copy\n",
            "  \n",
            "/usr/local/lib/python3.7/dist-packages/ipykernel_launcher.py:6: SettingWithCopyWarning: \n",
            "A value is trying to be set on a copy of a slice from a DataFrame.\n",
            "Try using .loc[row_indexer,col_indexer] = value instead\n",
            "\n",
            "See the caveats in the documentation: https://pandas.pydata.org/pandas-docs/stable/user_guide/indexing.html#returning-a-view-versus-a-copy\n",
            "  \n",
            "/usr/local/lib/python3.7/dist-packages/ipykernel_launcher.py:6: SettingWithCopyWarning: \n",
            "A value is trying to be set on a copy of a slice from a DataFrame.\n",
            "Try using .loc[row_indexer,col_indexer] = value instead\n",
            "\n",
            "See the caveats in the documentation: https://pandas.pydata.org/pandas-docs/stable/user_guide/indexing.html#returning-a-view-versus-a-copy\n",
            "  \n",
            "/usr/local/lib/python3.7/dist-packages/ipykernel_launcher.py:6: SettingWithCopyWarning: \n",
            "A value is trying to be set on a copy of a slice from a DataFrame.\n",
            "Try using .loc[row_indexer,col_indexer] = value instead\n",
            "\n",
            "See the caveats in the documentation: https://pandas.pydata.org/pandas-docs/stable/user_guide/indexing.html#returning-a-view-versus-a-copy\n",
            "  \n"
          ]
        }
      ]
    },
    {
      "cell_type": "code",
      "source": [
        "location_unique = pd.concat(cluster_df_array)\n",
        "color_col = 'dataset'"
      ],
      "metadata": {
        "id": "b9gztzC4y0cM"
      },
      "execution_count": 63,
      "outputs": []
    },
    {
      "cell_type": "code",
      "source": [
        "# location_unique = test_pred_unique\n",
        "# color_col = 'region'"
      ],
      "metadata": {
        "id": "c9W_FQEbCacH"
      },
      "execution_count": 33,
      "outputs": []
    },
    {
      "cell_type": "code",
      "source": [
        "from pylab import *\n",
        "import matplotlib.pyplot as plt\n",
        "import descartes\n",
        "import geopandas as gpd\n",
        "from shapely.geometry import Point, Polygon\n",
        "\n",
        "\n",
        "\n",
        "color_dict = {}\n",
        "unique_legend = location_unique[color_col].unique()\n",
        "np.random.shuffle(unique_legend)\n",
        "cmap = cm.get_cmap('tab20')\n",
        "for i in range(len(unique_legend)):\n",
        "  rgba = cmap(i)\n",
        "  # rgb2hex accepts rgb or rgba\n",
        "  color_dict[unique_legend[i]] = matplotlib.colors.rgb2hex(rgba)"
      ],
      "metadata": {
        "id": "LHFnOt4Fp-Gz"
      },
      "execution_count": 64,
      "outputs": []
    },
    {
      "cell_type": "code",
      "source": [
        "location_unique['color'] = location_unique[color_col].apply(lambda x: color_dict[x])"
      ],
      "metadata": {
        "id": "n6I-g6QCp_fT"
      },
      "execution_count": 65,
      "outputs": []
    },
    {
      "cell_type": "code",
      "source": [
        "gdf = gpd.GeoDataFrame(\n",
        "    location_unique, geometry=gpd.points_from_xy(location_unique.longitude, location_unique.latitude))"
      ],
      "metadata": {
        "id": "rirBScPeg1_R"
      },
      "execution_count": 66,
      "outputs": []
    },
    {
      "cell_type": "code",
      "source": [
        "us_map = gpd.read_file('/content/drive/MyDrive/snocast/dev/usa_map_files/usa-states-census-2014.shp')"
      ],
      "metadata": {
        "id": "08TaiwlwbNER"
      },
      "execution_count": 67,
      "outputs": []
    },
    {
      "cell_type": "code",
      "source": [
        "west = us_map[us_map['NAME'].isin(location_unique['legend'].unique())]"
      ],
      "metadata": {
        "id": "djhosYr1v9sf"
      },
      "execution_count": 68,
      "outputs": []
    },
    {
      "cell_type": "code",
      "source": [
        "west = west.to_crs(\"EPSG:3395\")\n",
        "gdf = gdf.set_crs(\"EPSG:4326\")\n",
        "gdf = gdf.to_crs(\"EPSG:3395\")"
      ],
      "metadata": {
        "id": "fXzPOx6kdk3q"
      },
      "execution_count": 69,
      "outputs": []
    },
    {
      "cell_type": "code",
      "source": [
        "fig, ax = plt.subplots(figsize=(15,15))\n",
        "west.boundary.plot(ax=ax)\n",
        "for ctype, data in gdf.groupby(color_col):\n",
        "  if ctype == 'train':\n",
        "    continue\n",
        "  color = color_dict[ctype]\n",
        "  data.plot(ax=ax, alpha=0.9, color=color, label=ctype)\n",
        "\n",
        "ax.legend(bbox_to_anchor=(1.0, 0.5), prop={'size': 12})\n",
        "ax.set(title='SWE Locations - Western United States')"
      ],
      "metadata": {
        "colab": {
          "base_uri": "https://localhost:8080/",
          "height": 948
        },
        "id": "gjNAp7smvVwT",
        "outputId": "e7602473-57b8-4df8-c89d-b575bbf67995"
      },
      "execution_count": 70,
      "outputs": [
        {
          "output_type": "stream",
          "name": "stderr",
          "text": [
            "/usr/local/lib/python3.7/dist-packages/geopandas/plotting.py:405: UserWarning: The GeoSeries you are attempting to plot is empty. Nothing has been displayed.\n",
            "  UserWarning,\n"
          ]
        },
        {
          "output_type": "execute_result",
          "data": {
            "text/plain": [
              "[Text(0.5, 1.0, 'SWE Locations - Western United States')]"
            ]
          },
          "metadata": {},
          "execution_count": 70
        },
        {
          "output_type": "display_data",
          "data": {
            "image/png": "[encoded data removed]",
            "text/plain": [
              "<Figure size 1080x1080 with 1 Axes>"
            ]
          },
          "metadata": {
            "needs_background": "light"
          }
        }
      ]
    },
    {
      "cell_type": "code",
      "source": [
        "location_unique.dataset.unique()"
      ],
      "metadata": {
        "colab": {
          "base_uri": "https://localhost:8080/"
        },
        "id": "5jH2iXSQp78t",
        "outputId": "c5c8afc7-c389-44ac-eab4-fb0d0942c0ab"
      },
      "execution_count": 74,
      "outputs": [
        {
          "output_type": "execute_result",
          "data": {
            "text/plain": [
              "array(['train', 'test', 'gm'], dtype=object)"
            ]
          },
          "metadata": {},
          "execution_count": 74
        }
      ]
    },
    {
      "cell_type": "code",
      "source": [
        "location_unique[location_unique['dataset'] == 'gm'].groupby('new_cluster').count()['latitude']"
      ],
      "metadata": {
        "colab": {
          "base_uri": "https://localhost:8080/"
        },
        "id": "N8oNFu3E_nS4",
        "outputId": "98b1b731-83fa-4847-a763-df48529e7a45"
      },
      "execution_count": 75,
      "outputs": [
        {
          "output_type": "execute_result",
          "data": {
            "text/plain": [
              "new_cluster\n",
              "0     39\n",
              "1     32\n",
              "2      9\n",
              "3     32\n",
              "4     34\n",
              "5     48\n",
              "6     12\n",
              "7     25\n",
              "8     73\n",
              "9     23\n",
              "10    19\n",
              "11    21\n",
              "12    33\n",
              "13    20\n",
              "14    41\n",
              "15     6\n",
              "16    14\n",
              "17     4\n",
              "18     5\n",
              "19     1\n",
              "20    12\n",
              "21    17\n",
              "22    43\n",
              "23    43\n",
              "24     7\n",
              "25     6\n",
              "26     3\n",
              "27     7\n",
              "28    20\n",
              "29     2\n",
              "30     4\n",
              "31     6\n",
              "32     3\n",
              "40     6\n",
              "41     6\n",
              "Name: latitude, dtype: int64"
            ]
          },
          "metadata": {},
          "execution_count": 75
        }
      ]
    },
    {
      "cell_type": "code",
      "source": [
        "location_unique.groupby('new_cluster').count()['latitude']"
      ],
      "metadata": {
        "colab": {
          "base_uri": "https://localhost:8080/"
        },
        "id": "qQRL6Vx_4MV8",
        "outputId": "b78be67b-3c9d-44e8-ab13-ef07344020ac"
      },
      "execution_count": null,
      "outputs": [
        {
          "output_type": "execute_result",
          "data": {
            "text/plain": [
              "new_cluster\n",
              "0       73\n",
              "1       42\n",
              "2      512\n",
              "3       56\n",
              "4      203\n",
              "5       86\n",
              "6      760\n",
              "7       44\n",
              "8      117\n",
              "9      233\n",
              "10      37\n",
              "11      39\n",
              "12      63\n",
              "13     174\n",
              "14      55\n",
              "15     812\n",
              "16     639\n",
              "17     700\n",
              "18     636\n",
              "19     600\n",
              "20     285\n",
              "21     685\n",
              "22     835\n",
              "23      71\n",
              "24    1061\n",
              "25     418\n",
              "26     516\n",
              "27     711\n",
              "28      30\n",
              "29     574\n",
              "30     618\n",
              "31     478\n",
              "32     657\n",
              "33     390\n",
              "34     593\n",
              "35     326\n",
              "36     647\n",
              "37     532\n",
              "38     215\n",
              "39     274\n",
              "40     476\n",
              "41    1174\n",
              "42     468\n",
              "43     688\n",
              "44     576\n",
              "45     297\n",
              "46     327\n",
              "47     179\n",
              "48     191\n",
              "49     123\n",
              "Name: latitude, dtype: int64"
            ]
          },
          "metadata": {},
          "execution_count": 519
        }
      ]
    },
    {
      "cell_type": "code",
      "source": [
        "ground_measures_metadata.head()"
      ],
      "metadata": {
        "colab": {
          "base_uri": "https://localhost:8080/",
          "height": 206
        },
        "id": "iE8k1YUh1h7I",
        "outputId": "70925641-8336-4373-f277-cc43955f1035"
      },
      "execution_count": null,
      "outputs": [
        {
          "output_type": "execute_result",
          "data": {
            "text/html": [
              "\n",
              "  <div id=\"df-347f9e1c-f382-4d2c-8a8c-0dd1e45c42c3\">\n",
              "    <div class=\"colab-df-container\">\n",
              "      <div>\n",
              "<style scoped>\n",
              "    .dataframe tbody tr th:only-of-type {\n",
              "        vertical-align: middle;\n",
              "    }\n",
              "\n",
              "    .dataframe tbody tr th {\n",
              "        vertical-align: top;\n",
              "    }\n",
              "\n",
              "    .dataframe thead th {\n",
              "        text-align: right;\n",
              "    }\n",
              "</style>\n",
              "<table border=\"1\" class=\"dataframe\">\n",
              "  <thead>\n",
              "    <tr style=\"text-align: right;\">\n",
              "      <th></th>\n",
              "      <th>station_id</th>\n",
              "      <th>name</th>\n",
              "      <th>elevation_m</th>\n",
              "      <th>latitude</th>\n",
              "      <th>longitude</th>\n",
              "      <th>state</th>\n",
              "    </tr>\n",
              "  </thead>\n",
              "  <tbody>\n",
              "    <tr>\n",
              "      <th>0</th>\n",
              "      <td>CDEC:ADM</td>\n",
              "      <td>Adin Mountain</td>\n",
              "      <td>1889.76</td>\n",
              "      <td>41.237000</td>\n",
              "      <td>-120.792000</td>\n",
              "      <td>California</td>\n",
              "    </tr>\n",
              "    <tr>\n",
              "      <th>1</th>\n",
              "      <td>CDEC:AGP</td>\n",
              "      <td>Agnew Pass</td>\n",
              "      <td>2880.36</td>\n",
              "      <td>37.726631</td>\n",
              "      <td>-119.141731</td>\n",
              "      <td>California</td>\n",
              "    </tr>\n",
              "    <tr>\n",
              "      <th>2</th>\n",
              "      <td>CDEC:ALP</td>\n",
              "      <td>Alpha (Smud)</td>\n",
              "      <td>2316.48</td>\n",
              "      <td>38.804192</td>\n",
              "      <td>-120.215652</td>\n",
              "      <td>California</td>\n",
              "    </tr>\n",
              "    <tr>\n",
              "      <th>3</th>\n",
              "      <td>CDEC:BCB</td>\n",
              "      <td>Blackcap Basin</td>\n",
              "      <td>3139.44</td>\n",
              "      <td>37.066685</td>\n",
              "      <td>-118.773010</td>\n",
              "      <td>California</td>\n",
              "    </tr>\n",
              "    <tr>\n",
              "      <th>4</th>\n",
              "      <td>CDEC:BCH</td>\n",
              "      <td>Beach Meadows</td>\n",
              "      <td>2331.72</td>\n",
              "      <td>36.126095</td>\n",
              "      <td>-118.293457</td>\n",
              "      <td>California</td>\n",
              "    </tr>\n",
              "  </tbody>\n",
              "</table>\n",
              "</div>\n",
              "      <button class=\"colab-df-convert\" onclick=\"convertToInteractive('df-347f9e1c-f382-4d2c-8a8c-0dd1e45c42c3')\"\n",
              "              title=\"Convert this dataframe to an interactive table.\"\n",
              "              style=\"display:none;\">\n",
              "        \n",
              "  <svg xmlns=\"http://www.w3.org/2000/svg\" height=\"24px\"viewBox=\"0 0 24 24\"\n",
              "       width=\"24px\">\n",
              "    <path d=\"M0 0h24v24H0V0z\" fill=\"none\"/>\n",
              "    <path d=\"M18.56 5.44l.94 2.06.94-2.06 2.06-.94-2.06-.94-.94-2.06-.94 2.06-2.06.94zm-11 1L8.5 8.5l.94-2.06 2.06-.94-2.06-.94L8.5 2.5l-.94 2.06-2.06.94zm10 10l.94 2.06.94-2.06 2.06-.94-2.06-.94-.94-2.06-.94 2.06-2.06.94z\"/><path d=\"M17.41 7.96l-1.37-1.37c-.4-.4-.92-.59-1.43-.59-.52 0-1.04.2-1.43.59L10.3 9.45l-7.72 7.72c-.78.78-.78 2.05 0 2.83L4 21.41c.39.39.9.59 1.41.59.51 0 1.02-.2 1.41-.59l7.78-7.78 2.81-2.81c.8-.78.8-2.07 0-2.86zM5.41 20L4 18.59l7.72-7.72 1.47 1.35L5.41 20z\"/>\n",
              "  </svg>\n",
              "      </button>\n",
              "      \n",
              "  <style>\n",
              "    .colab-df-container {\n",
              "      display:flex;\n",
              "      flex-wrap:wrap;\n",
              "      gap: 12px;\n",
              "    }\n",
              "\n",
              "    .colab-df-convert {\n",
              "      background-color: #E8F0FE;\n",
              "      border: none;\n",
              "      border-radius: 50%;\n",
              "      cursor: pointer;\n",
              "      display: none;\n",
              "      fill: #1967D2;\n",
              "      height: 32px;\n",
              "      padding: 0 0 0 0;\n",
              "      width: 32px;\n",
              "    }\n",
              "\n",
              "    .colab-df-convert:hover {\n",
              "      background-color: #E2EBFA;\n",
              "      box-shadow: 0px 1px 2px rgba(60, 64, 67, 0.3), 0px 1px 3px 1px rgba(60, 64, 67, 0.15);\n",
              "      fill: #174EA6;\n",
              "    }\n",
              "\n",
              "    [theme=dark] .colab-df-convert {\n",
              "      background-color: #3B4455;\n",
              "      fill: #D2E3FC;\n",
              "    }\n",
              "\n",
              "    [theme=dark] .colab-df-convert:hover {\n",
              "      background-color: #434B5C;\n",
              "      box-shadow: 0px 1px 3px 1px rgba(0, 0, 0, 0.15);\n",
              "      filter: drop-shadow(0px 1px 2px rgba(0, 0, 0, 0.3));\n",
              "      fill: #FFFFFF;\n",
              "    }\n",
              "  </style>\n",
              "\n",
              "      <script>\n",
              "        const buttonEl =\n",
              "          document.querySelector('#df-347f9e1c-f382-4d2c-8a8c-0dd1e45c42c3 button.colab-df-convert');\n",
              "        buttonEl.style.display =\n",
              "          google.colab.kernel.accessAllowed ? 'block' : 'none';\n",
              "\n",
              "        async function convertToInteractive(key) {\n",
              "          const element = document.querySelector('#df-347f9e1c-f382-4d2c-8a8c-0dd1e45c42c3');\n",
              "          const dataTable =\n",
              "            await google.colab.kernel.invokeFunction('convertToInteractive',\n",
              "                                                     [key], {});\n",
              "          if (!dataTable) return;\n",
              "\n",
              "          const docLinkHtml = 'Like what you see? Visit the ' +\n",
              "            '<a target=\"_blank\" href=https://colab.research.google.com/notebooks/data_table.ipynb>data table notebook</a>'\n",
              "            + ' to learn more about interactive tables.';\n",
              "          element.innerHTML = '';\n",
              "          dataTable['output_type'] = 'display_data';\n",
              "          await google.colab.output.renderOutput(dataTable, element);\n",
              "          const docLink = document.createElement('div');\n",
              "          docLink.innerHTML = docLinkHtml;\n",
              "          element.appendChild(docLink);\n",
              "        }\n",
              "      </script>\n",
              "    </div>\n",
              "  </div>\n",
              "  "
            ],
            "text/plain": [
              "  station_id            name  elevation_m   latitude   longitude       state\n",
              "0   CDEC:ADM   Adin Mountain      1889.76  41.237000 -120.792000  California\n",
              "1   CDEC:AGP      Agnew Pass      2880.36  37.726631 -119.141731  California\n",
              "2   CDEC:ALP    Alpha (Smud)      2316.48  38.804192 -120.215652  California\n",
              "3   CDEC:BCB  Blackcap Basin      3139.44  37.066685 -118.773010  California\n",
              "4   CDEC:BCH   Beach Meadows      2331.72  36.126095 -118.293457  California"
            ]
          },
          "metadata": {},
          "execution_count": 32
        }
      ]
    },
    {
      "cell_type": "code",
      "source": [
        "# location_unique[location_unique['new_cluster'] == 12].elevation_m.mean()"
      ],
      "metadata": {
        "id": "MOZZP9-Z4RaC"
      },
      "execution_count": null,
      "outputs": []
    },
    {
      "cell_type": "code",
      "source": [
        "# location_unique[location_unique['new_cluster'] == 13]"
      ],
      "metadata": {
        "id": "p0T9U8ahAW4U"
      },
      "execution_count": null,
      "outputs": []
    },
    {
      "cell_type": "code",
      "source": [
        "# location_unique['new_cluster'] = location_unique['new_cluster'].apply(lambda x: 0 if x == 5 else x)\n",
        "# location_unique['new_cluster'] = location_unique['new_cluster'].apply(lambda x: 12 if x == 13 else x)"
      ],
      "metadata": {
        "id": "nhwitYatAA-5"
      },
      "execution_count": null,
      "outputs": []
    },
    {
      "cell_type": "code",
      "source": [
        "train_label_seq = pd.merge(train_label_seq, \n",
        "                           location_unique[location_unique['dataset'] == 'train'][['cell_id','new_cluster','elevation_m']], \n",
        "                           how='inner', \n",
        "                           on='cell_id')"
      ],
      "metadata": {
        "id": "oTrxs-syQ_8b"
      },
      "execution_count": null,
      "outputs": []
    },
    {
      "cell_type": "code",
      "source": [
        "train_gm_seq = pd.merge(train_gm_seq, \n",
        "                           location_unique[location_unique['dataset'] == 'gm'][['station_id','new_cluster','elevation_m']], \n",
        "                           how='inner', \n",
        "                           on='station_id')"
      ],
      "metadata": {
        "id": "8MYo7EKMJtT2"
      },
      "execution_count": null,
      "outputs": []
    },
    {
      "cell_type": "code",
      "source": [
        "test_pred_seq = pd.merge(test_pred_seq, \n",
        "                           location_unique[location_unique['dataset'] == 'test'][['cell_id','new_cluster','elevation_m']], \n",
        "                           how='inner', \n",
        "                           on='cell_id')"
      ],
      "metadata": {
        "id": "AlqLuHXwG2pv"
      },
      "execution_count": null,
      "outputs": []
    },
    {
      "cell_type": "code",
      "source": [
        "train_label_seq['snow_season_day'] = train_label_seq.date.dt.dayofyear.apply(lambda x: x - 335 if x >= 335 else x + 30)\n",
        "test_pred_seq['snow_season_day'] = test_pred_seq.date.dt.dayofyear.apply(lambda x: x - 335 if x >= 335 else x + 30)\n",
        "train_gm_seq['snow_season_day'] = train_gm_seq.date.dt.dayofyear.apply(lambda x: x - 335 if x >= 335 else x + 30)"
      ],
      "metadata": {
        "id": "aNTHM40jHUJT"
      },
      "execution_count": null,
      "outputs": []
    },
    {
      "cell_type": "code",
      "source": [
        "snow_season_period_dict = {}\n",
        "days_in_period = 7\n",
        "total_days = 213\n",
        "period = 0\n",
        "period_count = 0\n",
        "total_periods = int(total_days/days_in_period) - 1\n",
        "\n",
        "for day in range(total_days):\n",
        "  snow_season_period_dict[day] = period\n",
        "  period_count += 1\n",
        "  if period_count == days_in_period:\n",
        "    if period != total_periods:\n",
        "      period += 1\n",
        "    period_count = 0"
      ],
      "metadata": {
        "id": "Bd7sNI1EKb1V"
      },
      "execution_count": null,
      "outputs": []
    },
    {
      "cell_type": "code",
      "source": [
        "train_label_seq['snow_season_period'] = train_label_seq.snow_season_day.apply(lambda x: snow_season_period_dict[x])\n",
        "test_pred_seq['snow_season_period'] = test_pred_seq.snow_season_day.apply(lambda x: snow_season_period_dict[x])\n",
        "train_gm_seq['snow_season_period'] = train_gm_seq.snow_season_day.apply(lambda x: snow_season_period_dict[x])"
      ],
      "metadata": {
        "id": "TcEJO4tAMQvi"
      },
      "execution_count": null,
      "outputs": []
    },
    {
      "cell_type": "code",
      "source": [
        "join_cols = ['snow_season_period', 'new_cluster', 'swe']\n",
        "cluster_seasonal_means = pd.concat([train_label_seq[join_cols], train_gm_seq[join_cols]]).groupby(['snow_season_period', 'new_cluster']).mean('swe').to_dict()['swe']\n",
        "seasonal_means = pd.concat([train_label_seq[join_cols], train_gm_seq[join_cols]]).groupby(['snow_season_period', 'new_cluster']).mean('swe').to_dict()['swe']"
      ],
      "metadata": {
        "id": "c9W2DaY-Me5W"
      },
      "execution_count": null,
      "outputs": []
    },
    {
      "cell_type": "code",
      "source": [
        "def apply_swe_mean(row):\n",
        "  snow_season_period = row['snow_season_period']\n",
        "  cluster = row['new_cluster']\n",
        "  dict_key = (snow_season_period, cluster)\n",
        "  if dict_key in cluster_seasonal_means.keys():\n",
        "    return cluster_seasonal_means[dict_key]\n",
        "  return 0.0"
      ],
      "metadata": {
        "id": "dNV1yUXSPp-g"
      },
      "execution_count": null,
      "outputs": []
    },
    {
      "cell_type": "code",
      "source": [
        "train_label_seq['swe_pred'] = train_label_seq.apply(lambda x: apply_swe_mean(x), axis=1)\n",
        "train_gm_seq['swe_pred'] = train_gm_seq.apply(lambda x: apply_swe_mean(x), axis=1)\n",
        "test_pred_seq['swe_pred'] = test_pred_seq.apply(lambda x: apply_swe_mean(x), axis=1)"
      ],
      "metadata": {
        "id": "1xWtdL69PDYl"
      },
      "execution_count": null,
      "outputs": []
    },
    {
      "cell_type": "code",
      "source": [
        "np.sqrt(np.sum((train_label_seq.swe - train_label_seq.swe_pred)**2)/len(train_label_seq))"
      ],
      "metadata": {
        "colab": {
          "base_uri": "https://localhost:8080/"
        },
        "id": "Z-1A9P7xRvD_",
        "outputId": "f66c15c8-62de-4632-bc04-ff0f1a329d2f"
      },
      "execution_count": null,
      "outputs": [
        {
          "output_type": "execute_result",
          "data": {
            "text/plain": [
              "11.31629853011645"
            ]
          },
          "metadata": {},
          "execution_count": 532
        }
      ]
    },
    {
      "cell_type": "code",
      "source": [
        "np.sqrt(np.sum((train_gm_seq.swe - train_gm_seq.swe_pred)**2)/len(train_gm_seq))"
      ],
      "metadata": {
        "colab": {
          "base_uri": "https://localhost:8080/"
        },
        "id": "YDO_zUbCSi3t",
        "outputId": "3b76e835-316e-43e7-fcdf-ffbd6dec8fe9"
      },
      "execution_count": null,
      "outputs": [
        {
          "output_type": "execute_result",
          "data": {
            "text/plain": [
              "10.017221293349115"
            ]
          },
          "metadata": {},
          "execution_count": 533
        }
      ]
    },
    {
      "cell_type": "code",
      "source": [
        "# 200, 7\n",
        "#10.483405165011881\n",
        "#9.416463419626862"
      ],
      "metadata": {
        "id": "gjLtlUotTkGN"
      },
      "execution_count": null,
      "outputs": []
    },
    {
      "cell_type": "code",
      "source": [
        "test_preds = test_pred_seq[['cell_id','date','swe_pred']]\n",
        "test_preds['date'] = test_preds.date.apply(lambda x: x.strftime('%Y-%m-%d'))\n",
        "test_preds = test_preds.pivot_table(index='cell_id', columns='date')\n",
        "test_preds.columns = test_preds.columns.droplevel().rename(None)\n",
        "test_preds = test_preds.reset_index(drop=False)"
      ],
      "metadata": {
        "colab": {
          "base_uri": "https://localhost:8080/"
        },
        "id": "0nZCp9QbOttE",
        "outputId": "9687eeb1-b6b8-4718-fc61-acfcde7125e6"
      },
      "execution_count": null,
      "outputs": [
        {
          "output_type": "stream",
          "name": "stderr",
          "text": [
            "/usr/local/lib/python3.7/dist-packages/ipykernel_launcher.py:2: SettingWithCopyWarning: \n",
            "A value is trying to be set on a copy of a slice from a DataFrame.\n",
            "Try using .loc[row_indexer,col_indexer] = value instead\n",
            "\n",
            "See the caveats in the documentation: https://pandas.pydata.org/pandas-docs/stable/user_guide/indexing.html#returning-a-view-versus-a-copy\n",
            "  \n"
          ]
        }
      ]
    },
    {
      "cell_type": "code",
      "source": [
        "test_preds.shape"
      ],
      "metadata": {
        "colab": {
          "base_uri": "https://localhost:8080/"
        },
        "id": "NaE0Wu_SdIDV",
        "outputId": "665f9661-18de-4579-ab64-f908ef74a45e"
      },
      "execution_count": null,
      "outputs": [
        {
          "output_type": "execute_result",
          "data": {
            "text/plain": [
              "(9066, 58)"
            ]
          },
          "metadata": {},
          "execution_count": 556
        }
      ]
    },
    {
      "cell_type": "code",
      "source": [
        "test_preds.to_csv('/content/drive/MyDrive/snocast/submissions/dev/submission_cluster.csv', index=False)"
      ],
      "metadata": {
        "id": "6w3rAhQScRI1"
      },
      "execution_count": null,
      "outputs": []
    },
    {
      "cell_type": "code",
      "source": [
        "test_preds.reset_index(drop=False).shape"
      ],
      "metadata": {
        "colab": {
          "base_uri": "https://localhost:8080/"
        },
        "id": "B4aIz8DBbMnU",
        "outputId": "e688b38c-9d26-44fc-dbcf-bc2e46a59387"
      },
      "execution_count": null,
      "outputs": [
        {
          "output_type": "execute_result",
          "data": {
            "text/plain": [
              "(9066, 58)"
            ]
          },
          "metadata": {},
          "execution_count": 540
        }
      ]
    },
    {
      "cell_type": "markdown",
      "source": [
        "## Prepare Data for STVGP"
      ],
      "metadata": {
        "id": "_xqAaDtET0yi"
      }
    },
    {
      "cell_type": "code",
      "source": [
        "stvgp_cols = ['epoch','latitude','longitude','swe']\n",
        "stvgp_data = pd.concat([train_gm_seq, train_label_seq])"
      ],
      "metadata": {
        "id": "K52LzRVRSkWa"
      },
      "execution_count": null,
      "outputs": []
    },
    {
      "cell_type": "code",
      "source": [
        "stvgp_cluster = stvgp_data[stvgp_data['cluster'] == 12][stvgp_cols].reset_index(drop=True)\n",
        "stvgp_cluster.sort_values(['epoch'], inplace=True)\n",
        "X = np.array(stvgp_cluster[['epoch','latitude','longitude']])\n",
        "Y = np.array(stvgp_cluster[['swe']])\n",
        "\n",
        "print(X.shape, Y.shape)"
      ],
      "metadata": {
        "colab": {
          "base_uri": "https://localhost:8080/"
        },
        "id": "VtlvW3NMStC-",
        "outputId": "b6b58c03-198e-4933-a863-720f6da1159b"
      },
      "execution_count": null,
      "outputs": [
        {
          "output_type": "stream",
          "name": "stdout",
          "text": [
            "(1276, 3) (1276, 1)\n"
          ]
        }
      ]
    },
    {
      "cell_type": "code",
      "source": [
        "# stvgp_cols = ['epoch','latitude','longitude','swe']\n",
        "# stvgp_data = pd.concat([train_gm_seq[stvgp_cols], train_label_seq[stvgp_cols]])\n",
        "# #stvgp_data = train_gm_seq[stvgp_cols]\n",
        "# stvgp_data.sort_values(['epoch'], inplace=True)\n",
        "# X = np.array(stvgp_data[['epoch','latitude','longitude']])\n",
        "# Y = np.array(stvgp_data[['swe']])\n",
        "\n",
        "# print(X.shape, Y.shape)"
      ],
      "metadata": {
        "id": "VyobN0UwVl1R"
      },
      "execution_count": null,
      "outputs": []
    },
    {
      "cell_type": "code",
      "source": [
        "# For the filtering methods to work we need a full spatio-temporal grid\n",
        "X_raw, Y_raw = pad_with_nan_to_make_grid(X.copy(), Y.copy())\n",
        "\n",
        "N = X_raw.shape[0]\n",
        "\n",
        "print('Y: ', Y_raw.shape, ' X_raw: ', X_raw.shape)\n",
        "print('statst: ', np.nanmean(Y_raw), np.nanmin(Y_raw), np.nanmax(Y_raw))"
      ],
      "metadata": {
        "colab": {
          "base_uri": "https://localhost:8080/"
        },
        "id": "-vK4YTWT1Bzl",
        "outputId": "ec0edf4a-a7a2-4ff9-e49a-19d6c4a42235"
      },
      "execution_count": null,
      "outputs": [
        {
          "output_type": "stream",
          "name": "stdout",
          "text": [
            "grid size: 1276 12 343 4116\n",
            "unique points:  (2840,)\n",
            "Y:  (4116, 1)  X_raw:  (4116, 3)\n",
            "statst:  0.0007053291536050157 0.0 0.4\n"
          ]
        }
      ]
    },
    {
      "cell_type": "code",
      "source": [
        "np.isnan(Y_raw).sum()"
      ],
      "metadata": {
        "colab": {
          "base_uri": "https://localhost:8080/"
        },
        "id": "86uZEmyYYkTV",
        "outputId": "ccdabfbf-28a1-4e7e-e40d-8a11ca9f1e0c"
      },
      "execution_count": null,
      "outputs": [
        {
          "output_type": "execute_result",
          "data": {
            "text/plain": [
              "2840"
            ]
          },
          "metadata": {},
          "execution_count": 140
        }
      ]
    },
    {
      "cell_type": "code",
      "source": [
        "Y_raw.shape"
      ],
      "metadata": {
        "colab": {
          "base_uri": "https://localhost:8080/"
        },
        "id": "3IcXnPvKYs23",
        "outputId": "5ea6cf47-fec7-4632-a603-f06833b31d11"
      },
      "execution_count": null,
      "outputs": [
        {
          "output_type": "execute_result",
          "data": {
            "text/plain": [
              "(4116, 1)"
            ]
          },
          "metadata": {},
          "execution_count": 141
        }
      ]
    },
    {
      "cell_type": "code",
      "source": [
        "# Sort the last 10 percent of data by epoch into test and remaining into train\n",
        "unique_epochs = np.unique(X_raw[:, 0])\n",
        "last_ten_percent = -int(len(unique_epochs)*0.2)\n",
        "#print(last_ten_percent)\n",
        "epoch_cutoff = unique_epochs[last_ten_percent]\n",
        "train_idx = np.where(X_raw[:, 0] < epoch_cutoff)[0]\n",
        "test_idx = np.where(X_raw[:, 0] >= epoch_cutoff)[0]"
      ],
      "metadata": {
        "id": "38c7536Poivf"
      },
      "execution_count": null,
      "outputs": []
    },
    {
      "cell_type": "code",
      "source": [
        "test_idx"
      ],
      "metadata": {
        "colab": {
          "base_uri": "https://localhost:8080/"
        },
        "id": "hur7pDJOXZM0",
        "outputId": "73611553-a1a5-42b2-9150-23d4aefebd75"
      },
      "execution_count": null,
      "outputs": [
        {
          "output_type": "execute_result",
          "data": {
            "text/plain": [
              "array([3430, 3431, 3432, 3433, 3434, 3435, 3436, 3437, 3438, 3439, 3440,\n",
              "       3441, 3442, 3443, 3444, 3445, 3446, 3447, 3448, 3449, 3450, 3451,\n",
              "       3452, 3453, 3454, 3455, 3456, 3457, 3458, 3459, 3460, 3461, 3462,\n",
              "       3463, 3464, 3465, 3466, 3467, 3468, 3469, 3470, 3471, 3472, 3473,\n",
              "       3474, 3475, 3476, 3477, 3478, 3479, 3480, 3481, 3482, 3483, 3484,\n",
              "       3485, 3486, 3487, 3488, 3489, 3490, 3491, 3492, 3493, 3494, 3495,\n",
              "       3496, 3497, 3498, 3499, 3500, 3501, 3502, 3503, 3504, 3505, 3506,\n",
              "       3507, 3508, 3509, 3510, 3511, 3512, 3513, 3514, 3515, 3516, 3517,\n",
              "       3518, 3519, 3520, 3521, 3522, 3523, 3524, 3525, 3526, 3527, 3528,\n",
              "       3529, 3530, 3531, 3532, 3533, 3534, 3535, 3536, 3537, 3538, 3539,\n",
              "       3540, 3541, 3542, 3543, 3544, 3545, 3546, 3547, 3548, 3549, 3550,\n",
              "       3551, 3552, 3553, 3554, 3555, 3556, 3557, 3558, 3559, 3560, 3561,\n",
              "       3562, 3563, 3564, 3565, 3566, 3567, 3568, 3569, 3570, 3571, 3572,\n",
              "       3573, 3574, 3575, 3576, 3577, 3578, 3579, 3580, 3581, 3582, 3583,\n",
              "       3584, 3585, 3586, 3587, 3588, 3589, 3590, 3591, 3592, 3593, 3594,\n",
              "       3595, 3596, 3597, 3598, 3599, 3600, 3601, 3602, 3603, 3604, 3605,\n",
              "       3606, 3607, 3608, 3609, 3610, 3611, 3612, 3613, 3614, 3615, 3616,\n",
              "       3617, 3618, 3619, 3620, 3621, 3622, 3623, 3624, 3625, 3626, 3627,\n",
              "       3628, 3629, 3630, 3631, 3632, 3633, 3634, 3635, 3636, 3637, 3638,\n",
              "       3639, 3640, 3641, 3642, 3643, 3644, 3645, 3646, 3647, 3648, 3649,\n",
              "       3650, 3651, 3652, 3653, 3654, 3655, 3656, 3657, 3658, 3659, 3660,\n",
              "       3661, 3662, 3663, 3664, 3665, 3666, 3667, 3668, 3669, 3670, 3671,\n",
              "       3672, 3673, 3674, 3675, 3676, 3677, 3678, 3679, 3680, 3681, 3682,\n",
              "       3683, 3684, 3685, 3686, 3687, 3688, 3689, 3690, 3691, 3692, 3693,\n",
              "       3694, 3695, 3696, 3697, 3698, 3699, 3700, 3701, 3702, 3703, 3704,\n",
              "       3705, 3706, 3707, 3708, 3709, 3710, 3711, 3712, 3713, 3714, 3715,\n",
              "       3716, 3717, 3718, 3719, 3720, 3721, 3722, 3723, 3724, 3725, 3726,\n",
              "       3727, 3728, 3729, 3730, 3731, 3732, 3733, 3734, 3735, 3736, 3737,\n",
              "       3738, 3739, 3740, 3741, 3742, 3743, 3744, 3745, 3746, 3747, 3748,\n",
              "       3749, 3750, 3751, 3752, 3753, 3754, 3755, 3756, 3757, 3758, 3759,\n",
              "       3760, 3761, 3762, 3763, 3764, 3765, 3766, 3767, 3768, 3769, 3770,\n",
              "       3771, 3772, 3773, 3774, 3775, 3776, 3777, 3778, 3779, 3780, 3781,\n",
              "       3782, 3783, 3784, 3785, 3786, 3787, 3788, 3789, 3790, 3791, 3792,\n",
              "       3793, 3794, 3795, 3796, 3797, 3798, 3799, 3800, 3801, 3802, 3803,\n",
              "       3804, 3805, 3806, 3807, 3808, 3809, 3810, 3811, 3812, 3813, 3814,\n",
              "       3815, 3816, 3817, 3818, 3819, 3820, 3821, 3822, 3823, 3824, 3825,\n",
              "       3826, 3827, 3828, 3829, 3830, 3831, 3832, 3833, 3834, 3835, 3836,\n",
              "       3837, 3838, 3839, 3840, 3841, 3842, 3843, 3844, 3845, 3846, 3847,\n",
              "       3848, 3849, 3850, 3851, 3852, 3853, 3854, 3855, 3856, 3857, 3858,\n",
              "       3859, 3860, 3861, 3862, 3863, 3864, 3865, 3866, 3867, 3868, 3869,\n",
              "       3870, 3871, 3872, 3873, 3874, 3875, 3876, 3877, 3878, 3879, 3880,\n",
              "       3881, 3882, 3883, 3884, 3885, 3886, 3887, 3888, 3889, 3890, 3891,\n",
              "       3892, 3893, 3894, 3895, 3896, 3897, 3898, 3899, 3900, 3901, 3902,\n",
              "       3903, 3904, 3905, 3906, 3907, 3908, 3909, 3910, 3911, 3912, 3913,\n",
              "       3914, 3915, 3916, 3917, 3918, 3919, 3920, 3921, 3922, 3923, 3924,\n",
              "       3925, 3926, 3927, 3928, 3929, 3930, 3931, 3932, 3933, 3934, 3935,\n",
              "       3936, 3937, 3938, 3939, 3940, 3941, 3942, 3943, 3944, 3945, 3946,\n",
              "       3947, 3948, 3949, 3950, 3951, 3952, 3953, 3954, 3955, 3956, 3957,\n",
              "       3958, 3959, 3960, 3961, 3962, 3963, 3964, 3965, 3966, 3967, 3968,\n",
              "       3969, 3970, 3971, 3972, 3973, 3974, 3975, 3976, 3977, 3978, 3979,\n",
              "       3980, 3981, 3982, 3983, 3984, 3985, 3986, 3987, 3988, 3989, 3990,\n",
              "       3991, 3992, 3993, 3994, 3995, 3996, 3997, 3998, 3999, 4000, 4001,\n",
              "       4002, 4003, 4004, 4005, 4006, 4007, 4008, 4009, 4010, 4011, 4012,\n",
              "       4013, 4014, 4015, 4016, 4017, 4018, 4019, 4020, 4021, 4022, 4023,\n",
              "       4024, 4025, 4026, 4027, 4028, 4029, 4030, 4031, 4032, 4033, 4034,\n",
              "       4035, 4036, 4037, 4038, 4039, 4040, 4041, 4042, 4043, 4044, 4045,\n",
              "       4046, 4047, 4048, 4049, 4050, 4051, 4052, 4053, 4054, 4055, 4056,\n",
              "       4057, 4058, 4059, 4060, 4061, 4062, 4063, 4064, 4065, 4066, 4067,\n",
              "       4068, 4069, 4070, 4071, 4072, 4073, 4074, 4075, 4076, 4077, 4078,\n",
              "       4079, 4080, 4081, 4082, 4083, 4084, 4085, 4086, 4087, 4088, 4089,\n",
              "       4090, 4091, 4092, 4093, 4094, 4095, 4096, 4097, 4098, 4099, 4100,\n",
              "       4101, 4102, 4103, 4104, 4105, 4106, 4107, 4108, 4109, 4110, 4111,\n",
              "       4112, 4113, 4114, 4115])"
            ]
          },
          "metadata": {},
          "execution_count": 143
        }
      ]
    },
    {
      "cell_type": "code",
      "source": [
        "#Collect training and testing data\n",
        "X_train, Y_train = X_raw.copy(), Y_raw.copy()\n",
        "Y_train[test_idx] = np.nan #to keep grid structure in X we just mask the testing data in the training set\n",
        "\n",
        "X_test, Y_test = X_raw.copy(), Y_raw.copy()\n",
        "Y_test[train_idx] = np.nan #to keep grid structure in X we just mask the training data in the testing set\n",
        "\n",
        "X_all = X_raw\n",
        "Y_all = Y_raw"
      ],
      "metadata": {
        "id": "Hzms822in5zk"
      },
      "execution_count": null,
      "outputs": []
    },
    {
      "cell_type": "code",
      "source": [
        "#normalise all data with respect to training data\n",
        "X_train_norm = normalise_df(X_raw, wrt_to=X_train)\n",
        "X_test_norm = normalise_df(X_test, wrt_to=X_train)\n",
        "X_all_norm = normalise_df(X_all, wrt_to=X_train)\n",
        "\n",
        "print('---')\n",
        "print('X_train: ', X_train_norm.shape)\n",
        "print('X_all: ', X_all.shape)\n",
        "print(np.nanmean(Y_train), np.nanstd(Y_train))\n",
        "print('Y_train: ', Y_train.shape, ' Non nans: ', np.sum(np.logical_not(np.isnan(Y_train))))\n",
        "print('X_test: ', X_test_norm.shape)\n",
        "print('Y_test: ', Y_test.shape, ' Non nans: ', np.sum(np.logical_not(np.isnan(Y_test))))"
      ],
      "metadata": {
        "colab": {
          "base_uri": "https://localhost:8080/"
        },
        "id": "lYd2Qunfz8-G",
        "outputId": "75596b54-ea04-4bf9-88e7-a56f5a310a5a"
      },
      "execution_count": null,
      "outputs": [
        {
          "output_type": "stream",
          "name": "stdout",
          "text": [
            "---\n",
            "X_train:  (4116, 3)\n",
            "X_all:  (4116, 3)\n",
            "0.0008645533141210375 0.016668258387507375\n",
            "Y_train:  (4116, 1)  Non nans:  1041\n",
            "X_test:  (4116, 3)\n",
            "Y_test:  (4116, 1)  Non nans:  235\n"
          ]
        }
      ]
    },
    {
      "cell_type": "markdown",
      "source": [
        "## Create baseline submission that uses SVGTP"
      ],
      "metadata": {
        "id": "gzf8H1Trp2cJ"
      }
    },
    {
      "cell_type": "code",
      "source": [
        "mean_field = False\n",
        "parallel = True\n",
        "grid = True\n",
        "num_z_space = 30"
      ],
      "metadata": {
        "id": "M6xZ4i1rqBYc"
      },
      "execution_count": null,
      "outputs": []
    },
    {
      "cell_type": "code",
      "source": [
        "X = X_train.copy()\n",
        "Y = Y_train.copy()\n",
        "\n",
        "X_t = X_test.copy()\n",
        "Y_t = Y_test.copy()"
      ],
      "metadata": {
        "id": "9nh1u4vttGiW"
      },
      "execution_count": null,
      "outputs": []
    },
    {
      "cell_type": "code",
      "source": [
        "if grid:\n",
        "    # the gridded approach:\n",
        "    t, R, Y = bayesnewton.utils.create_spatiotemporal_grid(X, Y)\n",
        "    t_t, R_t, Y_t = bayesnewton.utils.create_spatiotemporal_grid(X_t, Y_t)\n",
        "else:\n",
        "    # the sequential approach:\n",
        "    t = X[:, :1]\n",
        "    R = X[:, 1:]\n",
        "    t_t = X_t[:, :1]\n",
        "    R_t = X_t[:, 1:]\n",
        "Nt = t.shape[0]\n",
        "print(\"num time steps =\", Nt)\n",
        "Nr = R.shape[1]\n",
        "print(\"num spatial points =\", Nr)\n",
        "N = Y.shape[0] * Y.shape[1] * Y.shape[2]\n",
        "print(\"num data points =\", N)"
      ],
      "metadata": {
        "colab": {
          "base_uri": "https://localhost:8080/"
        },
        "id": "mombdvp_tGfH",
        "outputId": "81db69a1-92f1-45e5-b060-861a5b2a016c"
      },
      "execution_count": null,
      "outputs": [
        {
          "output_type": "stream",
          "name": "stdout",
          "text": [
            "num time steps = 12\n",
            "num spatial points = 343\n",
            "num data points = 4116\n"
          ]
        }
      ]
    },
    {
      "cell_type": "code",
      "source": [
        "var_y = 5.\n",
        "var_f = 1.\n",
        "len_time = 0.001\n",
        "len_space = 0.2\n",
        "\n",
        "sparse = True\n",
        "opt_z = True  # will be set to False if sparse=False\n",
        "\n",
        "if sparse:\n",
        "    z = kmeans2(R[0, ...], num_z_space, minit=\"points\")[0]\n",
        "else:\n",
        "    z = R[0, ...]\n",
        "\n",
        "kern_time = bayesnewton.kernels.Matern32(variance=var_f, lengthscale=len_time)\n",
        "kern_space0 = bayesnewton.kernels.Matern32(variance=var_f, lengthscale=len_space)\n",
        "kern_space1 = bayesnewton.kernels.Matern32(variance=var_f, lengthscale=len_space)\n",
        "kern_space = bayesnewton.kernels.Separable([kern_space0, kern_space1])\n",
        "\n",
        "kern = bayesnewton.kernels.SpatioTemporalKernel(temporal_kernel=kern_time,\n",
        "                                                spatial_kernel=kern_space,\n",
        "                                                z=z,\n",
        "                                                sparse=sparse,\n",
        "                                                opt_z=opt_z,\n",
        "                                                conditional='Full')\n",
        "\n",
        "lik = bayesnewton.likelihoods.Gaussian(variance=var_y)\n",
        "\n",
        "if mean_field:\n",
        "    model = bayesnewton.models.MarkovVariationalMeanFieldGP(kernel=kern, likelihood=lik, X=t, R=R, Y=Y, parallel=parallel)\n",
        "else:\n",
        "    model = bayesnewton.models.MarkovVariationalGP(kernel=kern, likelihood=lik, X=t, R=R, Y=Y, parallel=parallel)\n",
        "\n",
        "lr_adam = 0.01\n",
        "lr_newton = 1.\n",
        "iters = 20\n",
        "opt_hypers = objax.optimizer.Adam(model.vars())\n",
        "energy = objax.GradValues(model.energy, model.vars())"
      ],
      "metadata": {
        "colab": {
          "base_uri": "https://localhost:8080/"
        },
        "id": "J8ntM4EGtGb0",
        "outputId": "ff67d354-59fd-4ada-c938-bc90a2e8a3fb"
      },
      "execution_count": null,
      "outputs": [
        {
          "output_type": "stream",
          "name": "stderr",
          "text": [
            "/usr/local/lib/python3.7/dist-packages/jax/_src/numpy/lax_numpy.py:5302: UserWarning: 'kind' argument to argsort is ignored; only 'stable' sorts are supported.\n",
            "  warnings.warn(\"'kind' argument to argsort is ignored; only 'stable' sorts \"\n"
          ]
        }
      ]
    },
    {
      "cell_type": "code",
      "source": [
        "@objax.Function.with_vars(model.vars() + opt_hypers.vars())\n",
        "def train_op():\n",
        "    model.inference(lr=lr_newton)  # perform inference and update variational params\n",
        "    dE, E = energy()  # compute energy and its gradients w.r.t. hypers\n",
        "    opt_hypers(lr_adam, dE)\n",
        "    return E\n",
        "\n",
        "\n",
        "train_op = objax.Jit(train_op)\n",
        "\n",
        "t0 = time.time()\n",
        "for i in range(1, iters + 1):\n",
        "    loss = train_op()\n",
        "    print('iter %2d: energy: %1.4f' % (i, loss[0]))\n",
        "t1 = time.time()\n",
        "# print('optimisation time: %2.2f secs' % (t1-t0))\n",
        "avg_time_taken = (t1-t0)/iters\n",
        "print('average iter time: %2.2f secs' % avg_time_taken)"
      ],
      "metadata": {
        "id": "dI9hfnEAtGYr",
        "colab": {
          "base_uri": "https://localhost:8080/"
        },
        "outputId": "4299bdd3-699b-4257-cae3-fc62a4bbbaea"
      },
      "execution_count": null,
      "outputs": [
        {
          "output_type": "stream",
          "name": "stdout",
          "text": [
            "iter  1: energy: 1823.4287\n",
            "iter  2: energy: 1821.9138\n",
            "iter  3: energy: 1820.3693\n",
            "iter  4: energy: 1818.8432\n",
            "iter  5: energy: 1817.3469\n",
            "iter  6: energy: 1815.8805\n",
            "iter  7: energy: 1814.4480\n",
            "iter  8: energy: 1813.0448\n",
            "iter  9: energy: 1811.6512\n",
            "iter 10: energy: 1810.2515\n",
            "iter 11: energy: 1808.8417\n",
            "iter 12: energy: 1807.4270\n",
            "iter 13: energy: 1806.0141\n",
            "iter 14: energy: 1804.6071\n",
            "iter 15: energy: 1803.2068\n",
            "iter 16: energy: 1801.8120\n",
            "iter 17: energy: 1800.4221\n",
            "iter 18: energy: 1799.0373\n",
            "iter 19: energy: 1797.6582\n",
            "iter 20: energy: 1796.2841\n",
            "average iter time: 3.38 secs\n"
          ]
        }
      ]
    },
    {
      "cell_type": "code",
      "source": [
        "#objax.io.load_var_collection('/content/drive/MyDrive/snocast/stvgp_models/cluster12.npz', model.vars())"
      ],
      "metadata": {
        "id": "AKm5kSTND7vZ"
      },
      "execution_count": null,
      "outputs": []
    },
    {
      "cell_type": "code",
      "source": [
        "posterior_mean, posterior_var = model.predict_y(X=t_t, R=R_t)\n",
        "nlpd = model.negative_log_predictive_density(X=t_t, R=R_t, Y=Y_t)\n",
        "rmse = np.sqrt(np.nanmean((np.squeeze(Y_t) - np.squeeze(posterior_mean))**2))\n",
        "print('nlpd: %2.3f' % nlpd)\n",
        "print('rmse: %2.3f' % rmse)\n",
        "\n",
        "cpugpu = xla_bridge.get_backend().platform\n",
        "# 300 iter\n",
        "# nlpd: 20.155\n",
        "# rmse: 28.876"
      ],
      "metadata": {
        "id": "-45c9xVatGVE",
        "colab": {
          "base_uri": "https://localhost:8080/"
        },
        "outputId": "ecab8531-983a-4716-d169-41745a0fbb37"
      },
      "execution_count": null,
      "outputs": [
        {
          "output_type": "stream",
          "name": "stdout",
          "text": [
            "nlpd: 1.770\n",
            "rmse: 0.000\n"
          ]
        }
      ]
    },
    {
      "cell_type": "code",
      "source": [
        "import jax"
      ],
      "metadata": {
        "id": "Oewh7TKqVBfA"
      },
      "execution_count": null,
      "outputs": []
    },
    {
      "cell_type": "code",
      "source": [
        "posterior_mean[~np.isnan(np.squeeze(Y_t))]"
      ],
      "metadata": {
        "colab": {
          "base_uri": "https://localhost:8080/"
        },
        "id": "yzbdRGYyQuBm",
        "outputId": "2addb29f-8c43-4dca-f4d1-09ed5e41e646"
      },
      "execution_count": null,
      "outputs": [
        {
          "output_type": "execute_result",
          "data": {
            "text/plain": [
              "DeviceArray([0., 0., 0., 0., 0., 0., 0., 0., 0., 0., 0., 0., 0., 0., 0.,\n",
              "             0., 0., 0., 0., 0., 0., 0., 0., 0., 0., 0., 0., 0., 0., 0.,\n",
              "             0., 0., 0., 0., 0., 0., 0., 0., 0., 0., 0., 0., 0., 0., 0.,\n",
              "             0., 0., 0., 0., 0., 0., 0., 0., 0., 0., 0., 0., 0., 0., 0.,\n",
              "             0., 0., 0., 0., 0., 0., 0., 0., 0., 0., 0., 0., 0., 0., 0.,\n",
              "             0., 0., 0., 0., 0., 0., 0., 0., 0., 0., 0., 0., 0., 0., 0.,\n",
              "             0., 0., 0., 0., 0., 0., 0., 0., 0., 0., 0., 0., 0., 0., 0.,\n",
              "             0., 0., 0., 0., 0., 0., 0., 0., 0., 0., 0., 0., 0., 0., 0.,\n",
              "             0., 0., 0., 0., 0., 0., 0., 0., 0., 0., 0., 0., 0., 0., 0.,\n",
              "             0., 0., 0., 0., 0., 0., 0., 0., 0., 0., 0., 0., 0., 0., 0.,\n",
              "             0., 0., 0., 0., 0., 0., 0., 0., 0., 0., 0., 0., 0., 0., 0.,\n",
              "             0., 0., 0., 0., 0., 0., 0., 0., 0., 0., 0., 0., 0., 0., 0.,\n",
              "             0., 0., 0., 0., 0., 0., 0., 0., 0., 0., 0., 0., 0., 0., 0.,\n",
              "             0., 0., 0., 0., 0., 0., 0., 0., 0., 0., 0., 0., 0., 0., 0.,\n",
              "             0., 0., 0., 0., 0., 0., 0., 0., 0., 0., 0., 0., 0., 0., 0.,\n",
              "             0., 0., 0., 0., 0., 0., 0., 0., 0., 0.], dtype=float64)"
            ]
          },
          "metadata": {},
          "execution_count": 154
        }
      ]
    },
    {
      "cell_type": "code",
      "source": [
        "np.nanmean(Y_t)"
      ],
      "metadata": {
        "colab": {
          "base_uri": "https://localhost:8080/"
        },
        "id": "Gl0zgZksQjHz",
        "outputId": "04623dc9-c141-4ac1-831a-ec51fbe7075a"
      },
      "execution_count": null,
      "outputs": [
        {
          "output_type": "execute_result",
          "data": {
            "text/plain": [
              "0.0"
            ]
          },
          "metadata": {},
          "execution_count": 155
        }
      ]
    },
    {
      "cell_type": "code",
      "source": [
        "posterior_mean.shape"
      ],
      "metadata": {
        "colab": {
          "base_uri": "https://localhost:8080/"
        },
        "id": "XxGh7bhPUXNH",
        "outputId": "6a49b6d4-2f8e-4fc6-b99f-da6ae99382c4"
      },
      "execution_count": null,
      "outputs": [
        {
          "output_type": "execute_result",
          "data": {
            "text/plain": [
              "(12, 343)"
            ]
          },
          "metadata": {},
          "execution_count": 156
        }
      ]
    },
    {
      "cell_type": "code",
      "source": [
        "np.squeeze(posterior_mean)"
      ],
      "metadata": {
        "colab": {
          "base_uri": "https://localhost:8080/"
        },
        "id": "mh1CQdYPUJAZ",
        "outputId": "07c7f22d-7578-4f9e-dd48-7910703b645f"
      },
      "execution_count": null,
      "outputs": [
        {
          "output_type": "execute_result",
          "data": {
            "text/plain": [
              "DeviceArray([[0., 0., 0., ..., 0., 0., 0.],\n",
              "             [0., 0., 0., ..., 0., 0., 0.],\n",
              "             [0., 0., 0., ..., 0., 0., 0.],\n",
              "             ...,\n",
              "             [0., 0., 0., ..., 0., 0., 0.],\n",
              "             [0., 0., 0., ..., 0., 0., 0.],\n",
              "             [0., 0., 0., ..., 0., 0., 0.]], dtype=float64)"
            ]
          },
          "metadata": {},
          "execution_count": 157
        }
      ]
    },
    {
      "cell_type": "code",
      "source": [
        "objax.io.save_var_collection('/content/drive/MyDrive/snocast/dev/stvgp_models/cluster12.npz', model.vars())"
      ],
      "metadata": {
        "id": "SQ_rR_cgAd15"
      },
      "execution_count": null,
      "outputs": []
    },
    {
      "cell_type": "code",
      "source": [
        "posterior_mean"
      ],
      "metadata": {
        "colab": {
          "base_uri": "https://localhost:8080/"
        },
        "id": "sNi6UwgWE3iI",
        "outputId": "e03261dd-f972-45f9-9c9f-b08da5686d4f"
      },
      "execution_count": null,
      "outputs": [
        {
          "output_type": "execute_result",
          "data": {
            "text/plain": [
              "DeviceArray([[0., 0., 0., ..., 0., 0., 0.],\n",
              "             [0., 0., 0., ..., 0., 0., 0.],\n",
              "             [0., 0., 0., ..., 0., 0., 0.],\n",
              "             ...,\n",
              "             [0., 0., 0., ..., 0., 0., 0.],\n",
              "             [0., 0., 0., ..., 0., 0., 0.],\n",
              "             [0., 0., 0., ..., 0., 0., 0.]], dtype=float64)"
            ]
          },
          "metadata": {},
          "execution_count": 159
        }
      ]
    },
    {
      "cell_type": "code",
      "source": [
        "posterior_var.shape"
      ],
      "metadata": {
        "colab": {
          "base_uri": "https://localhost:8080/"
        },
        "id": "MfvtKeiYFYKZ",
        "outputId": "171b39b6-4214-48e7-92c1-ca9bbe806d9e"
      },
      "execution_count": null,
      "outputs": [
        {
          "output_type": "execute_result",
          "data": {
            "text/plain": [
              "(12, 343)"
            ]
          },
          "metadata": {},
          "execution_count": 160
        }
      ]
    },
    {
      "cell_type": "code",
      "source": [
        "posterior_mean, posterior_var = cluster12.predict_y(X=t_t, R=R_t)\n",
        "nlpd = cluster12.negative_log_predictive_density(X=t_t, R=R_t, Y=Y_t)\n",
        "rmse = np.sqrt(np.nanmean((np.squeeze(Y_t) - np.squeeze(posterior_mean))**2))\n",
        "print('nlpd: %2.3f' % nlpd)\n",
        "print('rmse: %2.3f' % rmse)"
      ],
      "metadata": {
        "id": "Rn1lf1YgtGR8",
        "colab": {
          "base_uri": "https://localhost:8080/",
          "height": 244
        },
        "outputId": "3eef4b7e-e90b-41ce-f059-eec0059a6d4a"
      },
      "execution_count": null,
      "outputs": [
        {
          "output_type": "error",
          "ename": "NameError",
          "evalue": "ignored",
          "traceback": [
            "\u001b[0;31m---------------------------------------------------------------------------\u001b[0m",
            "\u001b[0;31mNameError\u001b[0m                                 Traceback (most recent call last)",
            "\u001b[0;32m<ipython-input-161-1227aad7bd93>\u001b[0m in \u001b[0;36m<module>\u001b[0;34m()\u001b[0m\n\u001b[0;32m----> 1\u001b[0;31m \u001b[0mposterior_mean\u001b[0m\u001b[0;34m,\u001b[0m \u001b[0mposterior_var\u001b[0m \u001b[0;34m=\u001b[0m \u001b[0mcluster12\u001b[0m\u001b[0;34m.\u001b[0m\u001b[0mpredict_y\u001b[0m\u001b[0;34m(\u001b[0m\u001b[0mX\u001b[0m\u001b[0;34m=\u001b[0m\u001b[0mt_t\u001b[0m\u001b[0;34m,\u001b[0m \u001b[0mR\u001b[0m\u001b[0;34m=\u001b[0m\u001b[0mR_t\u001b[0m\u001b[0;34m)\u001b[0m\u001b[0;34m\u001b[0m\u001b[0;34m\u001b[0m\u001b[0m\n\u001b[0m\u001b[1;32m      2\u001b[0m \u001b[0mnlpd\u001b[0m \u001b[0;34m=\u001b[0m \u001b[0mcluster12\u001b[0m\u001b[0;34m.\u001b[0m\u001b[0mnegative_log_predictive_density\u001b[0m\u001b[0;34m(\u001b[0m\u001b[0mX\u001b[0m\u001b[0;34m=\u001b[0m\u001b[0mt_t\u001b[0m\u001b[0;34m,\u001b[0m \u001b[0mR\u001b[0m\u001b[0;34m=\u001b[0m\u001b[0mR_t\u001b[0m\u001b[0;34m,\u001b[0m \u001b[0mY\u001b[0m\u001b[0;34m=\u001b[0m\u001b[0mY_t\u001b[0m\u001b[0;34m)\u001b[0m\u001b[0;34m\u001b[0m\u001b[0;34m\u001b[0m\u001b[0m\n\u001b[1;32m      3\u001b[0m \u001b[0mrmse\u001b[0m \u001b[0;34m=\u001b[0m \u001b[0mnp\u001b[0m\u001b[0;34m.\u001b[0m\u001b[0msqrt\u001b[0m\u001b[0;34m(\u001b[0m\u001b[0mnp\u001b[0m\u001b[0;34m.\u001b[0m\u001b[0mnanmean\u001b[0m\u001b[0;34m(\u001b[0m\u001b[0;34m(\u001b[0m\u001b[0mnp\u001b[0m\u001b[0;34m.\u001b[0m\u001b[0msqueeze\u001b[0m\u001b[0;34m(\u001b[0m\u001b[0mY_t\u001b[0m\u001b[0;34m)\u001b[0m \u001b[0;34m-\u001b[0m \u001b[0mnp\u001b[0m\u001b[0;34m.\u001b[0m\u001b[0msqueeze\u001b[0m\u001b[0;34m(\u001b[0m\u001b[0mposterior_mean\u001b[0m\u001b[0;34m)\u001b[0m\u001b[0;34m)\u001b[0m\u001b[0;34m**\u001b[0m\u001b[0;36m2\u001b[0m\u001b[0;34m)\u001b[0m\u001b[0;34m)\u001b[0m\u001b[0;34m\u001b[0m\u001b[0;34m\u001b[0m\u001b[0m\n\u001b[1;32m      4\u001b[0m \u001b[0mprint\u001b[0m\u001b[0;34m(\u001b[0m\u001b[0;34m'nlpd: %2.3f'\u001b[0m \u001b[0;34m%\u001b[0m \u001b[0mnlpd\u001b[0m\u001b[0;34m)\u001b[0m\u001b[0;34m\u001b[0m\u001b[0;34m\u001b[0m\u001b[0m\n\u001b[1;32m      5\u001b[0m \u001b[0mprint\u001b[0m\u001b[0;34m(\u001b[0m\u001b[0;34m'rmse: %2.3f'\u001b[0m \u001b[0;34m%\u001b[0m \u001b[0mrmse\u001b[0m\u001b[0;34m)\u001b[0m\u001b[0;34m\u001b[0m\u001b[0;34m\u001b[0m\u001b[0m\n",
            "\u001b[0;31mNameError\u001b[0m: name 'cluster12' is not defined"
          ]
        }
      ]
    },
    {
      "cell_type": "code",
      "source": [
        "submission = submission_format.copy()\n",
        "\n",
        "for row_idx, row in submission.iterrows():\n",
        "  cell_id = row['cell_id']\n",
        "  cell_features = grid_features_test[cell_id]\n",
        "  region = cell_features['region']\n",
        "  for col in submission.columns:\n",
        "    if col != 'cell_id':\n",
        "      month = col.split('-')[1]\n",
        "      if month in region_swe_mean_by_month[region]:\n",
        "        submission.at[row_idx, col] = region_swe_mean_by_month[region][month]\n"
      ],
      "metadata": {
        "id": "so6SlKyaT7cJ"
      },
      "execution_count": null,
      "outputs": []
    },
    {
      "cell_type": "code",
      "source": [
        "submission.to_csv('/content/drive/MyDrive/snocast/dev/submission_region_baseline.csv', index=False)"
      ],
      "metadata": {
        "id": "wtNzK3J1XD2q"
      },
      "execution_count": null,
      "outputs": []
    }
  ]
}